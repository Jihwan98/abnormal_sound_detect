{
 "cells": [
  {
   "cell_type": "code",
   "execution_count": 1,
   "id": "0a570b65",
   "metadata": {},
   "outputs": [],
   "source": [
    "import torch\n",
    "import torch.nn as nn\n",
    "import torch.nn.functional as F\n",
    "import torch.optim as optim\n",
    "from torchvision import datasets, transforms\n",
    "from torch.utils.data import Dataset, DataLoader, SubsetRandomSampler\n",
    "import glob\n",
    "import librosa\n",
    "import numpy as np\n",
    "\n",
    "from torchsummary import summary"
   ]
  },
  {
   "cell_type": "code",
   "execution_count": 2,
   "id": "818eb990",
   "metadata": {},
   "outputs": [],
   "source": [
    "class AudioDataset(Dataset):\n",
    "    def __init__(self, path, transform=None, sample_rate=16000):\n",
    "        self.path = path\n",
    "        self.data_list = glob.glob(self.path + '/*.wav')\n",
    "        \n",
    "        self.transform = transform\n",
    "        self.sr = sample_rate\n",
    "        \n",
    "        self.max = 1\n",
    "        self.min = -1\n",
    "        \n",
    "    def __len__(self):\n",
    "        return len(self.data_list)\n",
    "    \n",
    "    def __getitem__(self, idx):\n",
    "        data_path = self.data_list[idx]\n",
    "        data = self.normalize(self.load_wav(data_path))\n",
    "#         data = np.expand_dims(data, axis=0)\n",
    "        \n",
    "        if self.transform is not None:\n",
    "            data = self.transform(data)\n",
    "        \n",
    "        return data # (16000)\n",
    "    \n",
    "    def load_wav(self, wav_file):\n",
    "        y, sr = librosa.load(wav_file, sr=self.sr)        \n",
    "        return y\n",
    "    \n",
    "    def normalize(self, s):\n",
    "        s = (s - self.min) / (self.max - self.min)\n",
    "        \n",
    "        return s"
   ]
  },
  {
   "cell_type": "code",
   "execution_count": 3,
   "id": "2ec0eec9",
   "metadata": {},
   "outputs": [],
   "source": [
    "dataset = AudioDataset(path='data/원천데이터/abnormal_1s')\n",
    "\n",
    "dataset.__len__()\n",
    "dataset_indices = list(range(dataset.__len__()))\n",
    "np.random.shuffle(dataset_indices)\n",
    "val_split_index = int(np.floor(0.2 * dataset.__len__()))\n",
    "train_idx, val_idx = dataset_indices[val_split_index:], dataset_indices[:val_split_index]\n",
    "\n",
    "train_sampler = SubsetRandomSampler(train_idx)\n",
    "val_sampler = SubsetRandomSampler(val_idx)\n",
    "\n",
    "train_loader = DataLoader(dataset=dataset, batch_size=100, sampler=train_sampler, shuffle=False)\n",
    "val_loader = DataLoader(dataset=dataset, batch_size=100, sampler=val_sampler, shuffle=False)"
   ]
  },
  {
   "cell_type": "code",
   "execution_count": 4,
   "id": "0a22d279",
   "metadata": {},
   "outputs": [
    {
     "data": {
      "text/plain": [
       "(tensor(1.0000), tensor(0.))"
      ]
     },
     "execution_count": 4,
     "metadata": {},
     "output_type": "execute_result"
    }
   ],
   "source": [
    "data_max = 0\n",
    "data_min = 100\n",
    "for data in train_loader:\n",
    "    if data.max() > data_max:\n",
    "        data_max = data.max()\n",
    "    if data.min() < data_min:\n",
    "        data_min = data.min()\n",
    "data_max, data_min"
   ]
  },
  {
   "cell_type": "code",
   "execution_count": 5,
   "id": "b86ca7a8",
   "metadata": {},
   "outputs": [],
   "source": [
    "class AE(nn.Module):\n",
    "    def __init__(self, input_dim=16000):\n",
    "        super(AE, self).__init__()\n",
    "        \n",
    "        self.encoder = nn.Sequential(\n",
    "            nn.Linear(input_dim, 4096),\n",
    "            nn.ReLU(),\n",
    "            nn.Linear(4096, 1024),\n",
    "            nn.ReLU(),\n",
    "            nn.Linear(1024, 512),\n",
    "            nn.ReLU()\n",
    "        )\n",
    "        \n",
    "        self.decoder = nn.Sequential(\n",
    "            nn.Linear(512, 1024),\n",
    "            nn.ReLU(),\n",
    "            nn.Linear(1024, 4096),\n",
    "            nn.ReLU(),\n",
    "            nn.Linear(4096, input_dim),\n",
    "            nn.Sigmoid()\n",
    "        )\n",
    "        \n",
    "    \n",
    "    def forward(self, x):\n",
    "        out = self.encoder(x)\n",
    "        out = self.decoder(out)\n",
    "        return out\n",
    "    \n",
    "    def get_codes(self, x):\n",
    "        return self.encoder(x)\n",
    "\n",
    "ae = AE()\n",
    "if torch.cuda.is_available():\n",
    "    ae.cuda()"
   ]
  },
  {
   "cell_type": "code",
   "execution_count": 6,
   "id": "d397cc3c",
   "metadata": {},
   "outputs": [
    {
     "data": {
      "text/plain": [
       "AE(\n",
       "  (encoder): Sequential(\n",
       "    (0): Linear(in_features=16000, out_features=4096, bias=True)\n",
       "    (1): ReLU()\n",
       "    (2): Linear(in_features=4096, out_features=1024, bias=True)\n",
       "    (3): ReLU()\n",
       "    (4): Linear(in_features=1024, out_features=512, bias=True)\n",
       "    (5): ReLU()\n",
       "  )\n",
       "  (decoder): Sequential(\n",
       "    (0): Linear(in_features=512, out_features=1024, bias=True)\n",
       "    (1): ReLU()\n",
       "    (2): Linear(in_features=1024, out_features=4096, bias=True)\n",
       "    (3): ReLU()\n",
       "    (4): Linear(in_features=4096, out_features=16000, bias=True)\n",
       "    (5): Sigmoid()\n",
       "  )\n",
       ")"
      ]
     },
     "execution_count": 6,
     "metadata": {},
     "output_type": "execute_result"
    }
   ],
   "source": [
    "ae"
   ]
  },
  {
   "cell_type": "code",
   "execution_count": 7,
   "id": "fea69de1",
   "metadata": {},
   "outputs": [
    {
     "name": "stdout",
     "output_type": "stream",
     "text": [
      "----------------------------------------------------------------\n",
      "        Layer (type)               Output Shape         Param #\n",
      "================================================================\n",
      "            Linear-1                 [-1, 4096]      65,540,096\n",
      "              ReLU-2                 [-1, 4096]               0\n",
      "            Linear-3                 [-1, 1024]       4,195,328\n",
      "              ReLU-4                 [-1, 1024]               0\n",
      "            Linear-5                  [-1, 512]         524,800\n",
      "              ReLU-6                  [-1, 512]               0\n",
      "            Linear-7                 [-1, 1024]         525,312\n",
      "              ReLU-8                 [-1, 1024]               0\n",
      "            Linear-9                 [-1, 4096]       4,198,400\n",
      "             ReLU-10                 [-1, 4096]               0\n",
      "           Linear-11                [-1, 16000]      65,552,000\n",
      "          Sigmoid-12                [-1, 16000]               0\n",
      "================================================================\n",
      "Total params: 140,535,936\n",
      "Trainable params: 140,535,936\n",
      "Non-trainable params: 0\n",
      "----------------------------------------------------------------\n",
      "Input size (MB): 0.06\n",
      "Forward/backward pass size (MB): 0.41\n",
      "Params size (MB): 536.10\n",
      "Estimated Total Size (MB): 536.57\n",
      "----------------------------------------------------------------\n"
     ]
    }
   ],
   "source": [
    "summary(ae, (16000,))"
   ]
  },
  {
   "cell_type": "code",
   "execution_count": 8,
   "id": "3dfc64f8",
   "metadata": {},
   "outputs": [],
   "source": [
    "def train(model, loss, optimizer, num_epochs, early_stopping=False):\n",
    "    train_loss_arr = []\n",
    "    test_loss_arr = []\n",
    "    \n",
    "    best_test_loss = 9999999999\n",
    "    early_stop, early_stop_max = 0, 3\n",
    "    \n",
    "    for epoch in range(num_epochs):\n",
    "        \n",
    "        epoch_loss = 0.\n",
    "        for batch_idx, data in enumerate(train_loader):\n",
    "            data = data.cuda()\n",
    "            optimizer.zero_grad()\n",
    "            \n",
    "            model.train()\n",
    "            outputs = model(data)\n",
    "            train_loss = loss(outputs, data)\n",
    "            epoch_loss += train_loss.data\n",
    "            \n",
    "            train_loss.backward()\n",
    "            optimizer.step()\n",
    "            \n",
    "            if batch_idx % 10 == 0:\n",
    "                print(f'Epoch : {epoch+1} [{batch_idx * len(data)}/{len(train_idx)} ({100. * batch_idx / len(train_idx) :.2f}%)]\\\n",
    "                \\tLoss : {train_loss.data / len(data) :.8f}')\n",
    "        \n",
    "        train_loss_arr.append((epoch_loss / len(train_idx)).cpu())\n",
    "        \n",
    "        # validation\n",
    "        model.eval()\n",
    "        \n",
    "        test_loss = 0.\n",
    "\n",
    "        for data in val_loader:\n",
    "            data = data.cuda()\n",
    "\n",
    "            outputs = model(data)\n",
    "            batch_loss = loss(outputs, data)\n",
    "            test_loss += batch_loss.data\n",
    "\n",
    "        test_loss_arr.append((test_loss / len(val_idx)).cpu())\n",
    "\n",
    "        if early_stopping:\n",
    "            if best_test_loss > test_loss:\n",
    "                best_test_loss = test_loss\n",
    "                early_stop = 0\n",
    "                print(f'Epoch [{epoch+1}/{num_epochs}], Average Train Loss : {train_loss_arr[epoch] :.8f}, ' +\\\n",
    "                f'Average Test Loss : {test_loss_arr[epoch] :.8f}\\n')\n",
    "            else:\n",
    "                early_stop += 1\n",
    "                print(f'Epoch [{epoch+1}/{num_epochs}], Average Train Loss : {train_loss_arr[epoch] :.8f}, '+\\\n",
    "                f'Average Test Loss : {test_loss_arr[epoch] :.8f}\\n')\n",
    "\n",
    "            if early_stop >= early_stop_max:\n",
    "                break\n",
    "        else:\n",
    "            print(f'Epoch [{epoch+1}/{num_epochs}], Average Train Loss : {train_loss_arr[epoch] :.8f}, ' +\\\n",
    "            f'Average Test Loss : {test_loss_arr[epoch] :.8f}\\n')\n",
    "\n",
    "    return train_loss_arr, test_loss_arr"
   ]
  },
  {
   "cell_type": "code",
   "execution_count": 9,
   "id": "ffe71113",
   "metadata": {
    "scrolled": true
   },
   "outputs": [
    {
     "name": "stdout",
     "output_type": "stream",
     "text": [
      "Epoch : 1 [0/2316 (0.00%)]                \tLoss : 0.00007752\n",
      "Epoch : 1 [1000/2316 (0.43%)]                \tLoss : 0.00005584\n",
      "Epoch : 1 [2000/2316 (0.86%)]                \tLoss : 0.00006006\n",
      "Epoch [1/2], Average Train Loss : 0.00005572, Average Test Loss : 0.00006171\n",
      "\n",
      "Epoch : 2 [0/2316 (0.00%)]                \tLoss : 0.00004016\n",
      "Epoch : 2 [1000/2316 (0.43%)]                \tLoss : 0.00007576\n",
      "Epoch : 2 [2000/2316 (0.86%)]                \tLoss : 0.00004916\n",
      "Epoch [2/2], Average Train Loss : 0.00005435, Average Test Loss : 0.00006283\n",
      "\n"
     ]
    }
   ],
   "source": [
    "ae_loss = nn.MSELoss()\n",
    "# ae_loss = nn.BCELoss()\n",
    "\n",
    "ae_optimizer = optim.Adam(ae.parameters())\n",
    "\n",
    "avg_train_loss, avg_test_loss = train(ae, ae_loss, ae_optimizer, 2, early_stopping=True)"
   ]
  },
  {
   "cell_type": "code",
   "execution_count": 10,
   "id": "7a566fa4",
   "metadata": {
    "scrolled": true
   },
   "outputs": [
    {
     "data": {
      "text/plain": [
       "<matplotlib.legend.Legend at 0x7f66050bdd30>"
      ]
     },
     "execution_count": 10,
     "metadata": {},
     "output_type": "execute_result"
    },
    {
     "data": {
      "image/png": "[encoded data removed]",
      "text/plain": [
       "<Figure size 432x288 with 1 Axes>"
      ]
     },
     "metadata": {
      "needs_background": "light"
     },
     "output_type": "display_data"
    }
   ],
   "source": [
    "import matplotlib.pyplot as plt\n",
    "plt.plot(avg_train_loss, label='train')\n",
    "plt.plot(avg_test_loss, label='test')\n",
    "plt.legend()"
   ]
  },
  {
   "cell_type": "code",
   "execution_count": null,
   "id": "1a2d509f",
   "metadata": {},
   "outputs": [],
   "source": []
  },
  {
   "cell_type": "code",
   "execution_count": 11,
   "id": "49162031",
   "metadata": {},
   "outputs": [],
   "source": [
    "normal_dataset = AudioDataset(path='data/원천데이터/normal_1s')\n",
    "abnormal_dataset = AudioDataset(path='data/원천데이터/abnormal_1s')\n",
    "\n",
    "normal_loader = DataLoader(dataset=normal_dataset, batch_size=1, shuffle=False)\n",
    "abnormal_loader = DataLoader(dataset=abnormal_dataset, batch_size=1, shuffle=False)"
   ]
  },
  {
   "cell_type": "code",
   "execution_count": 12,
   "id": "e247ff6e",
   "metadata": {},
   "outputs": [
    {
     "name": "stdout",
     "output_type": "stream",
     "text": [
      "--2.96%--5.93%--8.89%--11.85%--14.81%--17.78%--20.74%--23.70%--26.67%--29.63%--32.59%--35.56%--38.52%--41.48%--44.44%--47.41%--50.37%--53.33%--56.30%--59.26%--62.22%--65.19%--68.15%--71.11%--74.07%--77.04%--80.00%--82.96%--85.93%--88.89%--91.85%--94.81%--97.78%--100% \n",
      " done\n"
     ]
    }
   ],
   "source": [
    "mse = nn.MSELoss()\n",
    "\n",
    "normal_loss = []\n",
    "ae.eval()\n",
    "for idx, normal_data in enumerate(normal_loader):\n",
    "    normal_data = normal_data.cuda()\n",
    "    output = ae(normal_data)\n",
    "    loss = mse(normal_data, output)\n",
    "    normal_loss.append(loss.item())\n",
    "    if (idx+1) % 100 == 0:\n",
    "        print(f'--{((idx+1) / normal_loader.__len__()) * 100 :0.2f}%', end='')\n",
    "print(\"--100% \\n done\")"
   ]
  },
  {
   "cell_type": "code",
   "execution_count": 13,
   "id": "eb0e7cc9",
   "metadata": {},
   "outputs": [
    {
     "name": "stdout",
     "output_type": "stream",
     "text": [
      "--3.46%--6.91%--10.37%--13.82%--17.28%--20.73%--24.19%--27.64%--31.10%--34.55%--38.01%--41.47%--44.92%--48.38%--51.83%--55.29%--58.74%--62.20%--65.65%--69.11%--72.56%--76.02%--79.47%--82.93%--86.39%--89.84%--93.30%--96.75%--100% \n",
      " done\n"
     ]
    }
   ],
   "source": [
    "abnormal_loss = []\n",
    "ae.eval()\n",
    "for idx, abnormal_data in enumerate(abnormal_loader):\n",
    "    abnormal_data = abnormal_data.cuda()\n",
    "    output = ae(abnormal_data)\n",
    "    loss = mse(abnormal_data, output)\n",
    "    abnormal_loss.append(loss.item())\n",
    "    if (idx+1) % 100 == 0:\n",
    "        print(f'--{((idx+1) / abnormal_loader.__len__()) * 100 :0.2f}%', end='')\n",
    "print(\"--100% \\n done\")"
   ]
  },
  {
   "cell_type": "code",
   "execution_count": 14,
   "id": "554b35bd",
   "metadata": {
    "scrolled": true
   },
   "outputs": [
    {
     "data": {
      "image/png": "[encoded data removed]",
      "text/plain": [
       "<Figure size 432x288 with 1 Axes>"
      ]
     },
     "metadata": {
      "needs_background": "light"
     },
     "output_type": "display_data"
    }
   ],
   "source": [
    "import matplotlib.pyplot as plt\n",
    "\n",
    "\n",
    "plt.hist(normal_loss, color='r', alpha=0.5, bins=10, label='normal')\n",
    "plt.hist(abnormal_loss, color='b', alpha=0.5, bins=100, label='abnormal')\n",
    "plt.legend()\n",
    "\n",
    "plt.show()"
   ]
  },
  {
   "cell_type": "code",
   "execution_count": 15,
   "id": "18d27e3b",
   "metadata": {
    "scrolled": false
   },
   "outputs": [
    {
     "data": {
      "image/png": "[encoded data removed]",
      "text/plain": [
       "<Figure size 432x288 with 1 Axes>"
      ]
     },
     "metadata": {
      "needs_background": "light"
     },
     "output_type": "display_data"
    }
   ],
   "source": [
    "plt.hist(normal_loss, color='r', alpha=0.5, bins=100, label='normal')\n",
    "plt.show()"
   ]
  },
  {
   "cell_type": "code",
   "execution_count": 16,
   "id": "5be05ad6",
   "metadata": {},
   "outputs": [
    {
     "data": {
      "image/png": "[encoded data removed]",
      "text/plain": [
       "<Figure size 432x288 with 1 Axes>"
      ]
     },
     "metadata": {
      "needs_background": "light"
     },
     "output_type": "display_data"
    }
   ],
   "source": [
    "plt.hist(abnormal_loss, color='b', alpha=0.5, bins=1000, label='abnormal')\n",
    "plt.show()"
   ]
  },
  {
   "cell_type": "code",
   "execution_count": 17,
   "id": "0b52375d",
   "metadata": {},
   "outputs": [
    {
     "data": {
      "text/plain": [
       "(3375, 2894)"
      ]
     },
     "execution_count": 17,
     "metadata": {},
     "output_type": "execute_result"
    }
   ],
   "source": [
    "len(normal_loss), len(abnormal_loss)"
   ]
  },
  {
   "cell_type": "code",
   "execution_count": 18,
   "id": "71af407f",
   "metadata": {},
   "outputs": [
    {
     "data": {
      "text/plain": [
       "(3375, 237)"
      ]
     },
     "execution_count": 18,
     "metadata": {},
     "output_type": "execute_result"
    }
   ],
   "source": [
    "normal_loss = np.array(normal_loss)\n",
    "len(normal_loss), sum(normal_loss > 0.001)"
   ]
  },
  {
   "cell_type": "code",
   "execution_count": 19,
   "id": "93fd0d84",
   "metadata": {},
   "outputs": [
    {
     "data": {
      "text/plain": [
       "(2894, 1674)"
      ]
     },
     "execution_count": 19,
     "metadata": {},
     "output_type": "execute_result"
    }
   ],
   "source": [
    "abnormal_loss = np.array(abnormal_loss)\n",
    "len(abnormal_loss), sum(abnormal_loss > 0.001)"
   ]
  },
  {
   "cell_type": "code",
   "execution_count": null,
   "id": "18cb6382",
   "metadata": {},
   "outputs": [],
   "source": []
  },
  {
   "cell_type": "code",
   "execution_count": 20,
   "id": "a54b3114",
   "metadata": {},
   "outputs": [],
   "source": [
    "def normalize(x):\n",
    "    return (x + 1) / 2\n",
    "\n",
    "def denormalize(x):\n",
    "    return x*2 - 1"
   ]
  },
  {
   "cell_type": "code",
   "execution_count": 21,
   "id": "b72b3da5",
   "metadata": {},
   "outputs": [
    {
     "data": {
      "text/plain": [
       "(0.5577698, -0.49142456)"
      ]
     },
     "execution_count": 21,
     "metadata": {},
     "output_type": "execute_result"
    }
   ],
   "source": [
    "import soundfile as sf\n",
    "\n",
    "# data_path = 'data/원천데이터/normal_1s/실내_673584_label_0.wav'\n",
    "data_path = 'data/원천데이터/abnormal_1s/화재_925602_label_0.wav'\n",
    "y, sr = librosa.load(data_path, sr=16000)\n",
    "\n",
    "max(y), min(y)\n",
    "# sf.write(\"test.wav\", y, sr)"
   ]
  },
  {
   "cell_type": "code",
   "execution_count": 22,
   "id": "3d0e7dbb",
   "metadata": {},
   "outputs": [
    {
     "data": {
      "text/plain": [
       "(0.50884205, 0.49208683)"
      ]
     },
     "execution_count": 22,
     "metadata": {},
     "output_type": "execute_result"
    }
   ],
   "source": [
    "output = ae(torch.Tensor(normalize(y)).cuda()).cpu().detach().numpy()\n",
    "max(output), min(output)"
   ]
  },
  {
   "cell_type": "code",
   "execution_count": 23,
   "id": "e5299fda",
   "metadata": {},
   "outputs": [
    {
     "data": {
      "text/plain": [
       "(0.017684102, -0.015826344)"
      ]
     },
     "execution_count": 23,
     "metadata": {},
     "output_type": "execute_result"
    }
   ],
   "source": [
    "out = denormalize(output)\n",
    "max(out), min(out)"
   ]
  },
  {
   "cell_type": "code",
   "execution_count": 24,
   "id": "42eb4670",
   "metadata": {},
   "outputs": [],
   "source": [
    "sf.write(\"output.wav\", out, sr)"
   ]
  },
  {
   "cell_type": "code",
   "execution_count": null,
   "id": "9083ff09",
   "metadata": {},
   "outputs": [],
   "source": []
  },
  {
   "cell_type": "code",
   "execution_count": null,
   "id": "0466e389",
   "metadata": {},
   "outputs": [],
   "source": []
  },
  {
   "cell_type": "code",
   "execution_count": 62,
   "id": "ee918421",
   "metadata": {},
   "outputs": [
    {
     "data": {
      "text/plain": [
       "1.4990300769568421e-05"
      ]
     },
     "execution_count": 62,
     "metadata": {},
     "output_type": "execute_result"
    }
   ],
   "source": [
    "data_path = 'data/원천데이터/normal_1s/실내_673584_label_3.wav'\n",
    "y, sr = librosa.load(data_path, sr=16000)\n",
    "a = torch.Tensor(normalize(y)).cuda()\n",
    "b = ae(a)\n",
    "c1 = mse(a, b).item()\n",
    "c1"
   ]
  },
  {
   "cell_type": "code",
   "execution_count": 67,
   "id": "9c937780",
   "metadata": {},
   "outputs": [
    {
     "data": {
      "text/plain": [
       "0.00012860802235081792"
      ]
     },
     "execution_count": 67,
     "metadata": {},
     "output_type": "execute_result"
    }
   ],
   "source": [
    "data_path = 'data/원천데이터/abnormal_1s/가스사고_511209_label_2.wav'\n",
    "y, sr = librosa.load(data_path, sr=16000)\n",
    "a = torch.Tensor(normalize(y)).cuda()\n",
    "b = ae(a)\n",
    "c2 = mse(a, b).item()\n",
    "c2"
   ]
  },
  {
   "cell_type": "code",
   "execution_count": 68,
   "id": "261ff256",
   "metadata": {},
   "outputs": [
    {
     "data": {
      "text/plain": [
       "True"
      ]
     },
     "execution_count": 68,
     "metadata": {},
     "output_type": "execute_result"
    }
   ],
   "source": [
    "c1 < c2"
   ]
  },
  {
   "cell_type": "code",
   "execution_count": null,
   "id": "1862059f",
   "metadata": {},
   "outputs": [],
   "source": []
  }
 ],
 "metadata": {
  "kernelspec": {
   "display_name": "pytorch",
   "language": "python",
   "name": "pytorch"
  },
  "language_info": {
   "codemirror_mode": {
    "name": "ipython",
    "version": 3
   },
   "file_extension": ".py",
   "mimetype": "text/x-python",
   "name": "python",
   "nbconvert_exporter": "python",
   "pygments_lexer": "ipython3",
   "version": "3.8.12"
  }
 },
 "nbformat": 4,
 "nbformat_minor": 5
}
