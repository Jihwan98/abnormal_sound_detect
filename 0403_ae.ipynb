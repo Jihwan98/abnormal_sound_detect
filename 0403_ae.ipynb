{
 "cells": [
  {
   "cell_type": "code",
   "execution_count": 1,
   "id": "1d76e149",
   "metadata": {},
   "outputs": [],
   "source": [
    "import os\n",
    "import glob\n",
    "import numpy as np\n",
    "import librosa\n",
    "import librosa.display\n",
    "\n",
    "import torch\n",
    "import torch.nn as nn\n",
    "import torch.nn.functional as F\n",
    "import torch.optim as optim\n",
    "from torchvision import datasets, transforms\n",
    "from torch.utils.data import Dataset, DataLoader, SubsetRandomSampler\n",
    "from torchsummary import summary\n",
    "\n",
    "\n",
    "import soundfile as sf"
   ]
  },
  {
   "cell_type": "code",
   "execution_count": 2,
   "metadata": {},
   "outputs": [],
   "source": [
    "class AudioDataset(Dataset):\n",
    "    def __init__(self, path, transform=None, sample_rate=16000):\n",
    "        self.path = path\n",
    "        self.data_list = glob.glob(self.path + '/*.wav')\n",
    "        \n",
    "        self.transform = transform\n",
    "        self.sr = sample_rate\n",
    "        self.frame_length = 0.025\n",
    "        self.frame_stride = 0.0126\n",
    "\n",
    "    def __len__(self):\n",
    "        return len(self.data_list)\n",
    "    \n",
    "    def __getitem__(self, idx):\n",
    "        data_path = self.data_list[idx]\n",
    "        data = self.log_Mel_S(data_path)\n",
    "        data = np.expand_dims(data, axis=0)\n",
    "\n",
    "        if self.transform is not None:\n",
    "            data = self.transform(data)\n",
    "        return data # (1, 40, 80)\n",
    "    \n",
    "    def log_Mel_S(self, wav_file):\n",
    "        y, sr = librosa.load(wav_file, sr=self.sr)\n",
    "        if len(y) < 16000:\n",
    "            y = np.pad(y, (0,16000 - len(y)))\n",
    "        elif len(y) > 16000:\n",
    "            y = y[:16000]\n",
    "        else:\n",
    "            y = y\n",
    "\n",
    "        input_nfft = int(round(sr * self.frame_length))\n",
    "        input_stride = int(round(sr * self.frame_stride))\n",
    "\n",
    "        s = librosa.feature.melspectrogram(y=y, n_mels=40, n_fft=input_nfft, hop_length=input_stride)\n",
    "        s = librosa.power_to_db(s, ref=np.max)\n",
    "        return s"
   ]
  },
  {
   "cell_type": "code",
   "execution_count": 4,
   "metadata": {},
   "outputs": [
    {
     "name": "stdout",
     "output_type": "stream",
     "text": [
      "dataset.__len__() : 19091\n"
     ]
    }
   ],
   "source": [
    "dataset = AudioDataset(path='/mnt/storage1/위급상황 음성_음향/Training/bc_data/train/normal')\n",
    "\n",
    "print(f'dataset.__len__() : {dataset.__len__()}')\n",
    "dataset_indices = list(range(dataset.__len__()))\n",
    "np.random.shuffle(dataset_indices)\n",
    "val_split_index = int(np.floor(0.2 * dataset.__len__()))\n",
    "train_idx, val_idx = dataset_indices[val_split_index:], dataset_indices[:val_split_index]\n",
    "\n",
    "train_sampler = SubsetRandomSampler(train_idx)\n",
    "val_sampler = SubsetRandomSampler(val_idx)\n",
    "\n",
    "train_loader = DataLoader(dataset=dataset, batch_size=100, sampler=train_sampler, shuffle=False)\n",
    "val_loader = DataLoader(dataset=dataset, batch_size=100, sampler=val_sampler, shuffle=False)"
   ]
  },
  {
   "cell_type": "code",
   "execution_count": 5,
   "metadata": {},
   "outputs": [],
   "source": [
    "class AE(nn.Module):\n",
    "    def __init__(self, input_channel=1):\n",
    "        super(AE, self).__init__()\n",
    "\n",
    "        self.encoder = nn.Sequential(\n",
    "            nn.Conv2d(input_channel, 32, kernel_size=3, stride=1, padding=1),\n",
    "            nn.BatchNorm2d(32),\n",
    "            nn.ReLU(),\n",
    "            nn.MaxPool2d(2),\n",
    "            nn.Conv2d(32, 64, kernel_size=3, stride=1, padding=1),\n",
    "            nn.BatchNorm2d(64),\n",
    "            nn.ReLU(),\n",
    "            nn.MaxPool2d(2),\n",
    "            nn.Conv2d(64, 128, kernel_size=3, stride=1, padding=1),\n",
    "            nn.BatchNorm2d(128),\n",
    "            nn.ReLU(),\n",
    "            nn.MaxPool2d(2),\n",
    "        )\n",
    "\n",
    "        self.decoder = nn.Sequential(\n",
    "            nn.ConvTranspose2d(128, 64, kernel_size=4, stride=2, padding=1),\n",
    "            nn.BatchNorm2d(64),\n",
    "            nn.ReLU(),\n",
    "            nn.ConvTranspose2d(64, 32, kernel_size=4, stride=2, padding=1),\n",
    "            nn.BatchNorm2d(32),\n",
    "            nn.ReLU(),\n",
    "            nn.ConvTranspose2d(32, input_channel, kernel_size=4, stride=2, padding=1),\n",
    "        )\n",
    "\n",
    "    def forward(self, x):\n",
    "        out = self.encoder(x)\n",
    "        out = self.decoder(out)\n",
    "        return out\n",
    "\n",
    "    def get_codes(self, x):\n",
    "        return self.encoder(x)"
   ]
  },
  {
   "cell_type": "code",
   "execution_count": 6,
   "metadata": {},
   "outputs": [],
   "source": [
    "ae = AE()\n",
    "if torch.cuda.is_available():\n",
    "    ae.cuda()"
   ]
  },
  {
   "cell_type": "code",
   "execution_count": 7,
   "metadata": {},
   "outputs": [
    {
     "data": {
      "text/plain": [
       "AE(\n",
       "  (encoder): Sequential(\n",
       "    (0): Conv2d(1, 32, kernel_size=(3, 3), stride=(1, 1), padding=(1, 1))\n",
       "    (1): BatchNorm2d(32, eps=1e-05, momentum=0.1, affine=True, track_running_stats=True)\n",
       "    (2): ReLU()\n",
       "    (3): MaxPool2d(kernel_size=2, stride=2, padding=0, dilation=1, ceil_mode=False)\n",
       "    (4): Conv2d(32, 64, kernel_size=(3, 3), stride=(1, 1), padding=(1, 1))\n",
       "    (5): BatchNorm2d(64, eps=1e-05, momentum=0.1, affine=True, track_running_stats=True)\n",
       "    (6): ReLU()\n",
       "    (7): MaxPool2d(kernel_size=2, stride=2, padding=0, dilation=1, ceil_mode=False)\n",
       "    (8): Conv2d(64, 128, kernel_size=(3, 3), stride=(1, 1), padding=(1, 1))\n",
       "    (9): BatchNorm2d(128, eps=1e-05, momentum=0.1, affine=True, track_running_stats=True)\n",
       "    (10): ReLU()\n",
       "    (11): MaxPool2d(kernel_size=2, stride=2, padding=0, dilation=1, ceil_mode=False)\n",
       "  )\n",
       "  (decoder): Sequential(\n",
       "    (0): ConvTranspose2d(128, 64, kernel_size=(4, 4), stride=(2, 2), padding=(1, 1))\n",
       "    (1): BatchNorm2d(64, eps=1e-05, momentum=0.1, affine=True, track_running_stats=True)\n",
       "    (2): ReLU()\n",
       "    (3): ConvTranspose2d(64, 32, kernel_size=(4, 4), stride=(2, 2), padding=(1, 1))\n",
       "    (4): BatchNorm2d(32, eps=1e-05, momentum=0.1, affine=True, track_running_stats=True)\n",
       "    (5): ReLU()\n",
       "    (6): ConvTranspose2d(32, 1, kernel_size=(4, 4), stride=(2, 2), padding=(1, 1))\n",
       "  )\n",
       ")"
      ]
     },
     "execution_count": 7,
     "metadata": {},
     "output_type": "execute_result"
    }
   ],
   "source": [
    "ae"
   ]
  },
  {
   "cell_type": "code",
   "execution_count": 8,
   "metadata": {},
   "outputs": [
    {
     "name": "stdout",
     "output_type": "stream",
     "text": [
      "----------------------------------------------------------------\n",
      "        Layer (type)               Output Shape         Param #\n",
      "================================================================\n",
      "            Conv2d-1           [-1, 32, 40, 80]             320\n",
      "       BatchNorm2d-2           [-1, 32, 40, 80]              64\n",
      "              ReLU-3           [-1, 32, 40, 80]               0\n",
      "         MaxPool2d-4           [-1, 32, 20, 40]               0\n",
      "            Conv2d-5           [-1, 64, 20, 40]          18,496\n",
      "       BatchNorm2d-6           [-1, 64, 20, 40]             128\n",
      "              ReLU-7           [-1, 64, 20, 40]               0\n",
      "         MaxPool2d-8           [-1, 64, 10, 20]               0\n",
      "            Conv2d-9          [-1, 128, 10, 20]          73,856\n",
      "      BatchNorm2d-10          [-1, 128, 10, 20]             256\n",
      "             ReLU-11          [-1, 128, 10, 20]               0\n",
      "        MaxPool2d-12           [-1, 128, 5, 10]               0\n",
      "  ConvTranspose2d-13           [-1, 64, 10, 20]         131,136\n",
      "      BatchNorm2d-14           [-1, 64, 10, 20]             128\n",
      "             ReLU-15           [-1, 64, 10, 20]               0\n",
      "  ConvTranspose2d-16           [-1, 32, 20, 40]          32,800\n",
      "      BatchNorm2d-17           [-1, 32, 20, 40]              64\n",
      "             ReLU-18           [-1, 32, 20, 40]               0\n",
      "  ConvTranspose2d-19            [-1, 1, 40, 80]             513\n",
      "================================================================\n",
      "Total params: 257,761\n",
      "Trainable params: 257,761\n",
      "Non-trainable params: 0\n",
      "----------------------------------------------------------------\n",
      "Input size (MB): 0.01\n",
      "Forward/backward pass size (MB): 5.35\n",
      "Params size (MB): 0.98\n",
      "Estimated Total Size (MB): 6.34\n",
      "----------------------------------------------------------------\n"
     ]
    }
   ],
   "source": [
    "summary(ae, (1, 40, 80))"
   ]
  },
  {
   "cell_type": "code",
   "execution_count": 9,
   "metadata": {},
   "outputs": [],
   "source": [
    "def train(model, loss, optimizer, num_epochs, start_epoch=0, early_stopping=False):\n",
    "    train_loss_arr = []\n",
    "    test_loss_arr = []\n",
    "    \n",
    "    best_test_loss = 999999\n",
    "    early_stop, early_stop_max = 0, 3\n",
    "\n",
    "    for epoch in range(start_epoch, start_epoch + num_epochs):\n",
    "        epoch_loss = 0.\n",
    "        for batch_idx, data in enumerate(train_loader):\n",
    "            data = data.cuda()\n",
    "            optimizer.zero_grad()\n",
    "\n",
    "            model.train()\n",
    "            outputs = model(data)\n",
    "            train_loss = loss(outputs, data)\n",
    "            epoch_loss += train_loss.item()\n",
    "\n",
    "            train_loss.backward()\n",
    "            optimizer.step()\n",
    "\n",
    "            if batch_idx % 10 == 0:\n",
    "                print(f'Epoch : {epoch + 1} [{batch_idx * len(data)}/{len(train_idx)}({100 * 100. * batch_idx/len(train_idx) :.2f}%)]'\\\n",
    "                    +f'\\tLoss : {train_loss.item() / len(data) :.4f}')\n",
    "        \n",
    "        train_loss_arr.append((epoch_loss / len(train_idx)))\n",
    "\n",
    "        # validation\n",
    "\n",
    "        model.eval()\n",
    "        test_loss = 0.\n",
    "        for data in val_loader:\n",
    "            data = data.cuda()\n",
    "\n",
    "            outputs = model(data)\n",
    "            batch_loss = loss(outputs, data)\n",
    "            test_loss += batch_loss.item()\n",
    "\n",
    "        test_loss_arr.append((test_loss / len(val_idx)))\n",
    "\n",
    "        if early_stopping:\n",
    "            if best_test_loss > test_loss:\n",
    "                best_test_loss = test_loss\n",
    "                early_stop = 0\n",
    "                print(f'Epoch [{epoch + 1}/{num_epochs}], Average Train Loss : {train_loss_arr[epoch-start_epoch] :.4f}, ' +\\\n",
    "                f'Average Test Loss : {test_loss_arr[epoch-start_epoch] :.4f}\\n')\n",
    "            else:\n",
    "                early_stop += 1\n",
    "                print(f'Epoch [{epoch + 1}/{num_epochs}], Average Train Loss : {train_loss_arr[epoch-start_epoch] :.4f}, ' +\\\n",
    "                f'Average Test Loss : {test_loss_arr[epoch-start_epoch] :.4f}\\n')\n",
    "\n",
    "            if early_stop >= early_stop_max:\n",
    "                break\n",
    "        else:\n",
    "            print(f'Epoch [{epoch + 1}/{num_epochs}], Average Train Loss : {train_loss_arr[epoch-start_epoch] :.4f}, ' +\\\n",
    "            f'Average Test Loss : {test_loss_arr[epoch-start_epoch] :.4f}\\n')\n",
    "    return train_loss_arr, test_loss_arr"
   ]
  },
  {
   "cell_type": "code",
   "execution_count": 10,
   "metadata": {},
   "outputs": [
    {
     "name": "stdout",
     "output_type": "stream",
     "text": [
      "Epoch : 1 [0/15273(0.00%)]\tLoss : 8.3885\n",
      "Epoch : 1 [1000/15273(6.55%)]\tLoss : 8.2005\n",
      "Epoch : 1 [2000/15273(13.10%)]\tLoss : 7.2848\n",
      "Epoch : 1 [3000/15273(19.64%)]\tLoss : 7.0790\n",
      "Epoch : 1 [4000/15273(26.19%)]\tLoss : 6.7688\n",
      "Epoch : 1 [5000/15273(32.74%)]\tLoss : 6.6300\n",
      "Epoch : 1 [6000/15273(39.29%)]\tLoss : 6.0431\n",
      "Epoch : 1 [7000/15273(45.83%)]\tLoss : 6.0012\n",
      "Epoch : 1 [8000/15273(52.38%)]\tLoss : 5.3338\n",
      "Epoch : 1 [9000/15273(58.93%)]\tLoss : 5.0041\n",
      "Epoch : 1 [10000/15273(65.48%)]\tLoss : 5.1044\n",
      "Epoch : 1 [11000/15273(72.02%)]\tLoss : 4.4416\n",
      "Epoch : 1 [12000/15273(78.57%)]\tLoss : 4.2123\n",
      "Epoch : 1 [13000/15273(85.12%)]\tLoss : 3.8246\n",
      "Epoch : 1 [14000/15273(91.67%)]\tLoss : 3.3941\n",
      "Epoch : 1 [15000/15273(98.21%)]\tLoss : 3.3602\n",
      "Epoch [1/50], Average Train Loss : 5.7564, Average Test Loss : 3.1185\n",
      "\n",
      "Epoch : 2 [0/15273(0.00%)]\tLoss : 3.0234\n",
      "Epoch : 2 [1000/15273(6.55%)]\tLoss : 2.5230\n",
      "Epoch : 2 [2000/15273(13.10%)]\tLoss : 2.4028\n",
      "Epoch : 2 [3000/15273(19.64%)]\tLoss : 2.1037\n",
      "Epoch : 2 [4000/15273(26.19%)]\tLoss : 1.7983\n",
      "Epoch : 2 [5000/15273(32.74%)]\tLoss : 1.6338\n",
      "Epoch : 2 [6000/15273(39.29%)]\tLoss : 1.1981\n",
      "Epoch : 2 [7000/15273(45.83%)]\tLoss : 1.1097\n",
      "Epoch : 2 [8000/15273(52.38%)]\tLoss : 1.1471\n",
      "Epoch : 2 [9000/15273(58.93%)]\tLoss : 0.8170\n",
      "Epoch : 2 [10000/15273(65.48%)]\tLoss : 0.7545\n",
      "Epoch : 2 [11000/15273(72.02%)]\tLoss : 0.6315\n",
      "Epoch : 2 [12000/15273(78.57%)]\tLoss : 0.6090\n",
      "Epoch : 2 [13000/15273(85.12%)]\tLoss : 0.4700\n",
      "Epoch : 2 [14000/15273(91.67%)]\tLoss : 0.4306\n",
      "Epoch : 2 [15000/15273(98.21%)]\tLoss : 0.4000\n",
      "Epoch [2/50], Average Train Loss : 1.2969, Average Test Loss : 0.4080\n",
      "\n",
      "Epoch : 3 [0/15273(0.00%)]\tLoss : 0.3305\n",
      "Epoch : 3 [1000/15273(6.55%)]\tLoss : 0.3391\n",
      "Epoch : 3 [2000/15273(13.10%)]\tLoss : 0.2991\n",
      "Epoch : 3 [3000/15273(19.64%)]\tLoss : 0.2615\n",
      "Epoch : 3 [4000/15273(26.19%)]\tLoss : 0.2582\n",
      "Epoch : 3 [5000/15273(32.74%)]\tLoss : 0.2986\n",
      "Epoch : 3 [6000/15273(39.29%)]\tLoss : 0.1923\n",
      "Epoch : 3 [7000/15273(45.83%)]\tLoss : 0.2113\n",
      "Epoch : 3 [8000/15273(52.38%)]\tLoss : 0.2050\n",
      "Epoch : 3 [9000/15273(58.93%)]\tLoss : 0.2313\n",
      "Epoch : 3 [10000/15273(65.48%)]\tLoss : 0.1723\n",
      "Epoch : 3 [11000/15273(72.02%)]\tLoss : 0.2070\n",
      "Epoch : 3 [12000/15273(78.57%)]\tLoss : 0.1801\n",
      "Epoch : 3 [13000/15273(85.12%)]\tLoss : 0.1699\n",
      "Epoch : 3 [14000/15273(91.67%)]\tLoss : 0.1421\n",
      "Epoch : 3 [15000/15273(98.21%)]\tLoss : 0.1673\n",
      "Epoch [3/50], Average Train Loss : 0.2200, Average Test Loss : 0.1587\n",
      "\n",
      "Epoch : 4 [0/15273(0.00%)]\tLoss : 0.1546\n",
      "Epoch : 4 [1000/15273(6.55%)]\tLoss : 0.1421\n",
      "Epoch : 4 [2000/15273(13.10%)]\tLoss : 0.1416\n",
      "Epoch : 4 [3000/15273(19.64%)]\tLoss : 0.1352\n",
      "Epoch : 4 [4000/15273(26.19%)]\tLoss : 0.1381\n",
      "Epoch : 4 [5000/15273(32.74%)]\tLoss : 0.1325\n",
      "Epoch : 4 [6000/15273(39.29%)]\tLoss : 0.1340\n",
      "Epoch : 4 [7000/15273(45.83%)]\tLoss : 0.1334\n",
      "Epoch : 4 [8000/15273(52.38%)]\tLoss : 0.1323\n",
      "Epoch : 4 [9000/15273(58.93%)]\tLoss : 0.1335\n",
      "Epoch : 4 [10000/15273(65.48%)]\tLoss : 0.1296\n",
      "Epoch : 4 [11000/15273(72.02%)]\tLoss : 0.1238\n",
      "Epoch : 4 [12000/15273(78.57%)]\tLoss : 0.1337\n",
      "Epoch : 4 [13000/15273(85.12%)]\tLoss : 0.1283\n",
      "Epoch : 4 [14000/15273(91.67%)]\tLoss : 0.1278\n",
      "Epoch : 4 [15000/15273(98.21%)]\tLoss : 0.1278\n",
      "Epoch [4/50], Average Train Loss : 0.1354, Average Test Loss : 0.1255\n",
      "\n",
      "Epoch : 5 [0/15273(0.00%)]\tLoss : 0.1202\n",
      "Epoch : 5 [1000/15273(6.55%)]\tLoss : 0.1222\n",
      "Epoch : 5 [2000/15273(13.10%)]\tLoss : 0.1161\n",
      "Epoch : 5 [3000/15273(19.64%)]\tLoss : 0.1185\n",
      "Epoch : 5 [4000/15273(26.19%)]\tLoss : 0.1165\n",
      "Epoch : 5 [5000/15273(32.74%)]\tLoss : 0.1169\n",
      "Epoch : 5 [6000/15273(39.29%)]\tLoss : 0.1182\n",
      "Epoch : 5 [7000/15273(45.83%)]\tLoss : 0.1175\n",
      "Epoch : 5 [8000/15273(52.38%)]\tLoss : 0.1106\n",
      "Epoch : 5 [9000/15273(58.93%)]\tLoss : 0.1187\n",
      "Epoch : 5 [10000/15273(65.48%)]\tLoss : 0.1125\n",
      "Epoch : 5 [11000/15273(72.02%)]\tLoss : 0.1121\n",
      "Epoch : 5 [12000/15273(78.57%)]\tLoss : 0.1124\n",
      "Epoch : 5 [13000/15273(85.12%)]\tLoss : 0.1075\n",
      "Epoch : 5 [14000/15273(91.67%)]\tLoss : 0.1149\n",
      "Epoch : 5 [15000/15273(98.21%)]\tLoss : 0.1112\n",
      "Epoch [5/50], Average Train Loss : 0.1160, Average Test Loss : 0.1120\n",
      "\n",
      "Epoch : 6 [0/15273(0.00%)]\tLoss : 0.1059\n",
      "Epoch : 6 [1000/15273(6.55%)]\tLoss : 0.1097\n",
      "Epoch : 6 [2000/15273(13.10%)]\tLoss : 0.1111\n",
      "Epoch : 6 [3000/15273(19.64%)]\tLoss : 0.1071\n",
      "Epoch : 6 [4000/15273(26.19%)]\tLoss : 0.1051\n",
      "Epoch : 6 [5000/15273(32.74%)]\tLoss : 0.1076\n",
      "Epoch : 6 [6000/15273(39.29%)]\tLoss : 0.1057\n",
      "Epoch : 6 [7000/15273(45.83%)]\tLoss : 0.1111\n",
      "Epoch : 6 [8000/15273(52.38%)]\tLoss : 0.1082\n",
      "Epoch : 6 [9000/15273(58.93%)]\tLoss : 0.1032\n",
      "Epoch : 6 [10000/15273(65.48%)]\tLoss : 0.1049\n",
      "Epoch : 6 [11000/15273(72.02%)]\tLoss : 0.1103\n",
      "Epoch : 6 [12000/15273(78.57%)]\tLoss : 0.1035\n",
      "Epoch : 6 [13000/15273(85.12%)]\tLoss : 0.1008\n",
      "Epoch : 6 [14000/15273(91.67%)]\tLoss : 0.0994\n",
      "Epoch : 6 [15000/15273(98.21%)]\tLoss : 0.1080\n",
      "Epoch [6/50], Average Train Loss : 0.1069, Average Test Loss : 0.1031\n",
      "\n",
      "Epoch : 7 [0/15273(0.00%)]\tLoss : 0.1089\n",
      "Epoch : 7 [1000/15273(6.55%)]\tLoss : 0.1089\n",
      "Epoch : 7 [2000/15273(13.10%)]\tLoss : 0.1000\n",
      "Epoch : 7 [3000/15273(19.64%)]\tLoss : 0.1068\n",
      "Epoch : 7 [4000/15273(26.19%)]\tLoss : 0.1091\n",
      "Epoch : 7 [5000/15273(32.74%)]\tLoss : 0.1016\n",
      "Epoch : 7 [6000/15273(39.29%)]\tLoss : 0.1042\n",
      "Epoch : 7 [7000/15273(45.83%)]\tLoss : 0.0991\n",
      "Epoch : 7 [8000/15273(52.38%)]\tLoss : 0.1028\n",
      "Epoch : 7 [9000/15273(58.93%)]\tLoss : 0.0952\n",
      "Epoch : 7 [10000/15273(65.48%)]\tLoss : 0.0977\n",
      "Epoch : 7 [11000/15273(72.02%)]\tLoss : 0.1017\n",
      "Epoch : 7 [12000/15273(78.57%)]\tLoss : 0.0989\n",
      "Epoch : 7 [13000/15273(85.12%)]\tLoss : 0.0978\n",
      "Epoch : 7 [14000/15273(91.67%)]\tLoss : 0.0944\n",
      "Epoch : 7 [15000/15273(98.21%)]\tLoss : 0.0921\n",
      "Epoch [7/50], Average Train Loss : 0.1006, Average Test Loss : 0.0970\n",
      "\n",
      "Epoch : 8 [0/15273(0.00%)]\tLoss : 0.0909\n",
      "Epoch : 8 [1000/15273(6.55%)]\tLoss : 0.0998\n",
      "Epoch : 8 [2000/15273(13.10%)]\tLoss : 0.0921\n",
      "Epoch : 8 [3000/15273(19.64%)]\tLoss : 0.0903\n",
      "Epoch : 8 [4000/15273(26.19%)]\tLoss : 0.0928\n",
      "Epoch : 8 [5000/15273(32.74%)]\tLoss : 0.0976\n",
      "Epoch : 8 [6000/15273(39.29%)]\tLoss : 0.1118\n",
      "Epoch : 8 [7000/15273(45.83%)]\tLoss : 0.0933\n",
      "Epoch : 8 [8000/15273(52.38%)]\tLoss : 0.0941\n",
      "Epoch : 8 [9000/15273(58.93%)]\tLoss : 0.0987\n",
      "Epoch : 8 [10000/15273(65.48%)]\tLoss : 0.0931\n",
      "Epoch : 8 [11000/15273(72.02%)]\tLoss : 0.0923\n",
      "Epoch : 8 [12000/15273(78.57%)]\tLoss : 0.0908\n",
      "Epoch : 8 [13000/15273(85.12%)]\tLoss : 0.0964\n",
      "Epoch : 8 [14000/15273(91.67%)]\tLoss : 0.0892\n",
      "Epoch : 8 [15000/15273(98.21%)]\tLoss : 0.0898\n",
      "Epoch [8/50], Average Train Loss : 0.0948, Average Test Loss : 0.0937\n",
      "\n",
      "Epoch : 9 [0/15273(0.00%)]\tLoss : 0.0949\n",
      "Epoch : 9 [1000/15273(6.55%)]\tLoss : 0.0925\n",
      "Epoch : 9 [2000/15273(13.10%)]\tLoss : 0.0898\n",
      "Epoch : 9 [3000/15273(19.64%)]\tLoss : 0.0923\n",
      "Epoch : 9 [4000/15273(26.19%)]\tLoss : 0.0948\n",
      "Epoch : 9 [5000/15273(32.74%)]\tLoss : 0.0964\n",
      "Epoch : 9 [6000/15273(39.29%)]\tLoss : 0.0875\n",
      "Epoch : 9 [7000/15273(45.83%)]\tLoss : 0.0877\n",
      "Epoch : 9 [8000/15273(52.38%)]\tLoss : 0.0937\n",
      "Epoch : 9 [9000/15273(58.93%)]\tLoss : 0.0915\n",
      "Epoch : 9 [10000/15273(65.48%)]\tLoss : 0.0953\n",
      "Epoch : 9 [11000/15273(72.02%)]\tLoss : 0.0849\n",
      "Epoch : 9 [12000/15273(78.57%)]\tLoss : 0.0869\n",
      "Epoch : 9 [13000/15273(85.12%)]\tLoss : 0.0901\n",
      "Epoch : 9 [14000/15273(91.67%)]\tLoss : 0.0947\n",
      "Epoch : 9 [15000/15273(98.21%)]\tLoss : 0.0892\n",
      "Epoch [9/50], Average Train Loss : 0.0909, Average Test Loss : 0.0942\n",
      "\n",
      "Epoch : 10 [0/15273(0.00%)]\tLoss : 0.0940\n",
      "Epoch : 10 [1000/15273(6.55%)]\tLoss : 0.0880\n",
      "Epoch : 10 [2000/15273(13.10%)]\tLoss : 0.0937\n",
      "Epoch : 10 [3000/15273(19.64%)]\tLoss : 0.0864\n",
      "Epoch : 10 [4000/15273(26.19%)]\tLoss : 0.0892\n",
      "Epoch : 10 [5000/15273(32.74%)]\tLoss : 0.0845\n",
      "Epoch : 10 [6000/15273(39.29%)]\tLoss : 0.0854\n",
      "Epoch : 10 [7000/15273(45.83%)]\tLoss : 0.0855\n",
      "Epoch : 10 [8000/15273(52.38%)]\tLoss : 0.0857\n",
      "Epoch : 10 [9000/15273(58.93%)]\tLoss : 0.0893\n",
      "Epoch : 10 [10000/15273(65.48%)]\tLoss : 0.0826\n",
      "Epoch : 10 [11000/15273(72.02%)]\tLoss : 0.0836\n",
      "Epoch : 10 [12000/15273(78.57%)]\tLoss : 0.0835\n",
      "Epoch : 10 [13000/15273(85.12%)]\tLoss : 0.0852\n",
      "Epoch : 10 [14000/15273(91.67%)]\tLoss : 0.0834\n",
      "Epoch : 10 [15000/15273(98.21%)]\tLoss : 0.0870\n",
      "Epoch [10/50], Average Train Loss : 0.0869, Average Test Loss : 0.0867\n",
      "\n",
      "Epoch : 11 [0/15273(0.00%)]\tLoss : 0.0858\n",
      "Epoch : 11 [1000/15273(6.55%)]\tLoss : 0.0889\n",
      "Epoch : 11 [2000/15273(13.10%)]\tLoss : 0.0872\n",
      "Epoch : 11 [3000/15273(19.64%)]\tLoss : 0.0861\n",
      "Epoch : 11 [4000/15273(26.19%)]\tLoss : 0.0884\n",
      "Epoch : 11 [5000/15273(32.74%)]\tLoss : 0.0882\n",
      "Epoch : 11 [6000/15273(39.29%)]\tLoss : 0.0847\n",
      "Epoch : 11 [7000/15273(45.83%)]\tLoss : 0.0931\n",
      "Epoch : 11 [8000/15273(52.38%)]\tLoss : 0.0818\n",
      "Epoch : 11 [9000/15273(58.93%)]\tLoss : 0.0809\n",
      "Epoch : 11 [10000/15273(65.48%)]\tLoss : 0.0886\n",
      "Epoch : 11 [11000/15273(72.02%)]\tLoss : 0.0813\n",
      "Epoch : 11 [12000/15273(78.57%)]\tLoss : 0.0818\n",
      "Epoch : 11 [13000/15273(85.12%)]\tLoss : 0.0815\n",
      "Epoch : 11 [14000/15273(91.67%)]\tLoss : 0.0827\n",
      "Epoch : 11 [15000/15273(98.21%)]\tLoss : 0.0805\n",
      "Epoch [11/50], Average Train Loss : 0.0848, Average Test Loss : 0.0843\n",
      "\n",
      "Epoch : 12 [0/15273(0.00%)]\tLoss : 0.0894\n",
      "Epoch : 12 [1000/15273(6.55%)]\tLoss : 0.0817\n",
      "Epoch : 12 [2000/15273(13.10%)]\tLoss : 0.0806\n",
      "Epoch : 12 [3000/15273(19.64%)]\tLoss : 0.0812\n",
      "Epoch : 12 [4000/15273(26.19%)]\tLoss : 0.0803\n",
      "Epoch : 12 [5000/15273(32.74%)]\tLoss : 0.0825\n",
      "Epoch : 12 [6000/15273(39.29%)]\tLoss : 0.0786\n",
      "Epoch : 12 [7000/15273(45.83%)]\tLoss : 0.0829\n",
      "Epoch : 12 [8000/15273(52.38%)]\tLoss : 0.0879\n",
      "Epoch : 12 [9000/15273(58.93%)]\tLoss : 0.0809\n",
      "Epoch : 12 [10000/15273(65.48%)]\tLoss : 0.0781\n",
      "Epoch : 12 [11000/15273(72.02%)]\tLoss : 0.0840\n",
      "Epoch : 12 [12000/15273(78.57%)]\tLoss : 0.0797\n",
      "Epoch : 12 [13000/15273(85.12%)]\tLoss : 0.0804\n",
      "Epoch : 12 [14000/15273(91.67%)]\tLoss : 0.0784\n",
      "Epoch : 12 [15000/15273(98.21%)]\tLoss : 0.0891\n",
      "Epoch [12/50], Average Train Loss : 0.0815, Average Test Loss : 0.0818\n",
      "\n",
      "Epoch : 13 [0/15273(0.00%)]\tLoss : 0.0800\n",
      "Epoch : 13 [1000/15273(6.55%)]\tLoss : 0.0768\n",
      "Epoch : 13 [2000/15273(13.10%)]\tLoss : 0.0791\n",
      "Epoch : 13 [3000/15273(19.64%)]\tLoss : 0.0856\n",
      "Epoch : 13 [4000/15273(26.19%)]\tLoss : 0.0791\n",
      "Epoch : 13 [5000/15273(32.74%)]\tLoss : 0.0777\n",
      "Epoch : 13 [6000/15273(39.29%)]\tLoss : 0.0762\n",
      "Epoch : 13 [7000/15273(45.83%)]\tLoss : 0.0944\n",
      "Epoch : 13 [8000/15273(52.38%)]\tLoss : 0.0795\n",
      "Epoch : 13 [9000/15273(58.93%)]\tLoss : 0.0770\n",
      "Epoch : 13 [10000/15273(65.48%)]\tLoss : 0.0906\n",
      "Epoch : 13 [11000/15273(72.02%)]\tLoss : 0.0742\n",
      "Epoch : 13 [12000/15273(78.57%)]\tLoss : 0.0761\n",
      "Epoch : 13 [13000/15273(85.12%)]\tLoss : 0.0770\n",
      "Epoch : 13 [14000/15273(91.67%)]\tLoss : 0.0806\n",
      "Epoch : 13 [15000/15273(98.21%)]\tLoss : 0.0896\n",
      "Epoch [13/50], Average Train Loss : 0.0800, Average Test Loss : 0.0818\n",
      "\n",
      "Epoch : 14 [0/15273(0.00%)]\tLoss : 0.0775\n",
      "Epoch : 14 [1000/15273(6.55%)]\tLoss : 0.0832\n",
      "Epoch : 14 [2000/15273(13.10%)]\tLoss : 0.0765\n",
      "Epoch : 14 [3000/15273(19.64%)]\tLoss : 0.0756\n",
      "Epoch : 14 [4000/15273(26.19%)]\tLoss : 0.0750\n",
      "Epoch : 14 [5000/15273(32.74%)]\tLoss : 0.0771\n",
      "Epoch : 14 [6000/15273(39.29%)]\tLoss : 0.0742\n",
      "Epoch : 14 [7000/15273(45.83%)]\tLoss : 0.0740\n",
      "Epoch : 14 [8000/15273(52.38%)]\tLoss : 0.0756\n",
      "Epoch : 14 [9000/15273(58.93%)]\tLoss : 0.0753\n",
      "Epoch : 14 [10000/15273(65.48%)]\tLoss : 0.0841\n",
      "Epoch : 14 [11000/15273(72.02%)]\tLoss : 0.0818\n",
      "Epoch : 14 [12000/15273(78.57%)]\tLoss : 0.0770\n",
      "Epoch : 14 [13000/15273(85.12%)]\tLoss : 0.0766\n",
      "Epoch : 14 [14000/15273(91.67%)]\tLoss : 0.0749\n",
      "Epoch : 14 [15000/15273(98.21%)]\tLoss : 0.0735\n",
      "Epoch [14/50], Average Train Loss : 0.0775, Average Test Loss : 0.0763\n",
      "\n",
      "Epoch : 15 [0/15273(0.00%)]\tLoss : 0.0735\n",
      "Epoch : 15 [1000/15273(6.55%)]\tLoss : 0.0788\n",
      "Epoch : 15 [2000/15273(13.10%)]\tLoss : 0.0755\n",
      "Epoch : 15 [3000/15273(19.64%)]\tLoss : 0.0753\n",
      "Epoch : 15 [4000/15273(26.19%)]\tLoss : 0.0747\n",
      "Epoch : 15 [5000/15273(32.74%)]\tLoss : 0.0822\n",
      "Epoch : 15 [6000/15273(39.29%)]\tLoss : 0.0748\n",
      "Epoch : 15 [7000/15273(45.83%)]\tLoss : 0.0817\n",
      "Epoch : 15 [8000/15273(52.38%)]\tLoss : 0.0880\n",
      "Epoch : 15 [9000/15273(58.93%)]\tLoss : 0.0778\n",
      "Epoch : 15 [10000/15273(65.48%)]\tLoss : 0.0845\n",
      "Epoch : 15 [11000/15273(72.02%)]\tLoss : 0.0728\n",
      "Epoch : 15 [12000/15273(78.57%)]\tLoss : 0.0748\n",
      "Epoch : 15 [13000/15273(85.12%)]\tLoss : 0.0785\n",
      "Epoch : 15 [14000/15273(91.67%)]\tLoss : 0.0822\n",
      "Epoch : 15 [15000/15273(98.21%)]\tLoss : 0.0749\n",
      "Epoch [15/50], Average Train Loss : 0.0764, Average Test Loss : 0.0763\n",
      "\n",
      "Epoch : 16 [0/15273(0.00%)]\tLoss : 0.0734\n",
      "Epoch : 16 [1000/15273(6.55%)]\tLoss : 0.0724\n",
      "Epoch : 16 [2000/15273(13.10%)]\tLoss : 0.0782\n",
      "Epoch : 16 [3000/15273(19.64%)]\tLoss : 0.0747\n",
      "Epoch : 16 [4000/15273(26.19%)]\tLoss : 0.0723\n",
      "Epoch : 16 [5000/15273(32.74%)]\tLoss : 0.0744\n",
      "Epoch : 16 [6000/15273(39.29%)]\tLoss : 0.0719\n",
      "Epoch : 16 [7000/15273(45.83%)]\tLoss : 0.0747\n",
      "Epoch : 16 [8000/15273(52.38%)]\tLoss : 0.0745\n",
      "Epoch : 16 [9000/15273(58.93%)]\tLoss : 0.0754\n",
      "Epoch : 16 [10000/15273(65.48%)]\tLoss : 0.0713\n",
      "Epoch : 16 [11000/15273(72.02%)]\tLoss : 0.0721\n",
      "Epoch : 16 [12000/15273(78.57%)]\tLoss : 0.0706\n",
      "Epoch : 16 [13000/15273(85.12%)]\tLoss : 0.0707\n",
      "Epoch : 16 [14000/15273(91.67%)]\tLoss : 0.0719\n",
      "Epoch : 16 [15000/15273(98.21%)]\tLoss : 0.0711\n",
      "Epoch [16/50], Average Train Loss : 0.0735, Average Test Loss : 0.0720\n",
      "\n",
      "Epoch : 17 [0/15273(0.00%)]\tLoss : 0.0791\n",
      "Epoch : 17 [1000/15273(6.55%)]\tLoss : 0.0748\n",
      "Epoch : 17 [2000/15273(13.10%)]\tLoss : 0.0768\n",
      "Epoch : 17 [3000/15273(19.64%)]\tLoss : 0.0727\n",
      "Epoch : 17 [4000/15273(26.19%)]\tLoss : 0.0716\n",
      "Epoch : 17 [5000/15273(32.74%)]\tLoss : 0.0714\n",
      "Epoch : 17 [6000/15273(39.29%)]\tLoss : 0.0755\n",
      "Epoch : 17 [7000/15273(45.83%)]\tLoss : 0.0710\n",
      "Epoch : 17 [8000/15273(52.38%)]\tLoss : 0.0769\n",
      "Epoch : 17 [9000/15273(58.93%)]\tLoss : 0.0734\n",
      "Epoch : 17 [10000/15273(65.48%)]\tLoss : 0.0706\n",
      "Epoch : 17 [11000/15273(72.02%)]\tLoss : 0.0741\n",
      "Epoch : 17 [12000/15273(78.57%)]\tLoss : 0.0695\n",
      "Epoch : 17 [13000/15273(85.12%)]\tLoss : 0.0854\n",
      "Epoch : 17 [14000/15273(91.67%)]\tLoss : 0.0727\n",
      "Epoch : 17 [15000/15273(98.21%)]\tLoss : 0.0735\n",
      "Epoch [17/50], Average Train Loss : 0.0745, Average Test Loss : 0.0727\n",
      "\n",
      "Epoch : 18 [0/15273(0.00%)]\tLoss : 0.0720\n",
      "Epoch : 18 [1000/15273(6.55%)]\tLoss : 0.0705\n",
      "Epoch : 18 [2000/15273(13.10%)]\tLoss : 0.0739\n",
      "Epoch : 18 [3000/15273(19.64%)]\tLoss : 0.0735\n",
      "Epoch : 18 [4000/15273(26.19%)]\tLoss : 0.0696\n",
      "Epoch : 18 [5000/15273(32.74%)]\tLoss : 0.0714\n",
      "Epoch : 18 [6000/15273(39.29%)]\tLoss : 0.0709\n",
      "Epoch : 18 [7000/15273(45.83%)]\tLoss : 0.0704\n",
      "Epoch : 18 [8000/15273(52.38%)]\tLoss : 0.0743\n",
      "Epoch : 18 [9000/15273(58.93%)]\tLoss : 0.0711\n",
      "Epoch : 18 [10000/15273(65.48%)]\tLoss : 0.0736\n",
      "Epoch : 18 [11000/15273(72.02%)]\tLoss : 0.0715\n",
      "Epoch : 18 [12000/15273(78.57%)]\tLoss : 0.0698\n",
      "Epoch : 18 [13000/15273(85.12%)]\tLoss : 0.0723\n",
      "Epoch : 18 [14000/15273(91.67%)]\tLoss : 0.0702\n",
      "Epoch : 18 [15000/15273(98.21%)]\tLoss : 0.0706\n",
      "Epoch [18/50], Average Train Loss : 0.0715, Average Test Loss : 0.0717\n",
      "\n",
      "Epoch : 19 [0/15273(0.00%)]\tLoss : 0.0769\n",
      "Epoch : 19 [1000/15273(6.55%)]\tLoss : 0.0691\n",
      "Epoch : 19 [2000/15273(13.10%)]\tLoss : 0.0708\n",
      "Epoch : 19 [3000/15273(19.64%)]\tLoss : 0.0695\n",
      "Epoch : 19 [4000/15273(26.19%)]\tLoss : 0.0770\n",
      "Epoch : 19 [5000/15273(32.74%)]\tLoss : 0.0721\n",
      "Epoch : 19 [6000/15273(39.29%)]\tLoss : 0.0715\n",
      "Epoch : 19 [7000/15273(45.83%)]\tLoss : 0.0684\n",
      "Epoch : 19 [8000/15273(52.38%)]\tLoss : 0.0703\n",
      "Epoch : 19 [9000/15273(58.93%)]\tLoss : 0.0757\n",
      "Epoch : 19 [10000/15273(65.48%)]\tLoss : 0.0687\n",
      "Epoch : 19 [11000/15273(72.02%)]\tLoss : 0.0683\n",
      "Epoch : 19 [12000/15273(78.57%)]\tLoss : 0.0689\n",
      "Epoch : 19 [13000/15273(85.12%)]\tLoss : 0.0673\n",
      "Epoch : 19 [14000/15273(91.67%)]\tLoss : 0.0679\n",
      "Epoch : 19 [15000/15273(98.21%)]\tLoss : 0.0673\n",
      "Epoch [19/50], Average Train Loss : 0.0707, Average Test Loss : 0.0719\n",
      "\n",
      "Epoch : 20 [0/15273(0.00%)]\tLoss : 0.0705\n",
      "Epoch : 20 [1000/15273(6.55%)]\tLoss : 0.0686\n",
      "Epoch : 20 [2000/15273(13.10%)]\tLoss : 0.0706\n",
      "Epoch : 20 [3000/15273(19.64%)]\tLoss : 0.0673\n",
      "Epoch : 20 [4000/15273(26.19%)]\tLoss : 0.0666\n",
      "Epoch : 20 [5000/15273(32.74%)]\tLoss : 0.0691\n",
      "Epoch : 20 [6000/15273(39.29%)]\tLoss : 0.0660\n",
      "Epoch : 20 [7000/15273(45.83%)]\tLoss : 0.0715\n",
      "Epoch : 20 [8000/15273(52.38%)]\tLoss : 0.0689\n",
      "Epoch : 20 [9000/15273(58.93%)]\tLoss : 0.0680\n",
      "Epoch : 20 [10000/15273(65.48%)]\tLoss : 0.0678\n",
      "Epoch : 20 [11000/15273(72.02%)]\tLoss : 0.0756\n",
      "Epoch : 20 [12000/15273(78.57%)]\tLoss : 0.0669\n",
      "Epoch : 20 [13000/15273(85.12%)]\tLoss : 0.0715\n",
      "Epoch : 20 [14000/15273(91.67%)]\tLoss : 0.0702\n",
      "Epoch : 20 [15000/15273(98.21%)]\tLoss : 0.0673\n",
      "Epoch [20/50], Average Train Loss : 0.0694, Average Test Loss : 0.0708\n",
      "\n",
      "Epoch : 21 [0/15273(0.00%)]\tLoss : 0.0744\n",
      "Epoch : 21 [1000/15273(6.55%)]\tLoss : 0.0675\n",
      "Epoch : 21 [2000/15273(13.10%)]\tLoss : 0.0647\n",
      "Epoch : 21 [3000/15273(19.64%)]\tLoss : 0.0668\n",
      "Epoch : 21 [4000/15273(26.19%)]\tLoss : 0.0674\n",
      "Epoch : 21 [5000/15273(32.74%)]\tLoss : 0.0659\n",
      "Epoch : 21 [6000/15273(39.29%)]\tLoss : 0.0675\n",
      "Epoch : 21 [7000/15273(45.83%)]\tLoss : 0.0691\n",
      "Epoch : 21 [8000/15273(52.38%)]\tLoss : 0.0689\n",
      "Epoch : 21 [9000/15273(58.93%)]\tLoss : 0.0691\n",
      "Epoch : 21 [10000/15273(65.48%)]\tLoss : 0.0672\n",
      "Epoch : 21 [11000/15273(72.02%)]\tLoss : 0.0675\n",
      "Epoch : 21 [12000/15273(78.57%)]\tLoss : 0.0652\n",
      "Epoch : 21 [13000/15273(85.12%)]\tLoss : 0.0711\n",
      "Epoch : 21 [14000/15273(91.67%)]\tLoss : 0.0676\n",
      "Epoch : 21 [15000/15273(98.21%)]\tLoss : 0.0664\n",
      "Epoch [21/50], Average Train Loss : 0.0683, Average Test Loss : 0.0683\n",
      "\n",
      "Epoch : 22 [0/15273(0.00%)]\tLoss : 0.0639\n",
      "Epoch : 22 [1000/15273(6.55%)]\tLoss : 0.0683\n",
      "Epoch : 22 [2000/15273(13.10%)]\tLoss : 0.0656\n",
      "Epoch : 22 [3000/15273(19.64%)]\tLoss : 0.0672\n",
      "Epoch : 22 [4000/15273(26.19%)]\tLoss : 0.0699\n",
      "Epoch : 22 [5000/15273(32.74%)]\tLoss : 0.0689\n",
      "Epoch : 22 [6000/15273(39.29%)]\tLoss : 0.0666\n",
      "Epoch : 22 [7000/15273(45.83%)]\tLoss : 0.0690\n",
      "Epoch : 22 [8000/15273(52.38%)]\tLoss : 0.0690\n",
      "Epoch : 22 [9000/15273(58.93%)]\tLoss : 0.0762\n",
      "Epoch : 22 [10000/15273(65.48%)]\tLoss : 0.0682\n",
      "Epoch : 22 [11000/15273(72.02%)]\tLoss : 0.0662\n",
      "Epoch : 22 [12000/15273(78.57%)]\tLoss : 0.0647\n",
      "Epoch : 22 [13000/15273(85.12%)]\tLoss : 0.0660\n",
      "Epoch : 22 [14000/15273(91.67%)]\tLoss : 0.0643\n",
      "Epoch : 22 [15000/15273(98.21%)]\tLoss : 0.0650\n",
      "Epoch [22/50], Average Train Loss : 0.0681, Average Test Loss : 0.0656\n",
      "\n",
      "Epoch : 23 [0/15273(0.00%)]\tLoss : 0.0649\n",
      "Epoch : 23 [1000/15273(6.55%)]\tLoss : 0.0706\n",
      "Epoch : 23 [2000/15273(13.10%)]\tLoss : 0.0652\n",
      "Epoch : 23 [3000/15273(19.64%)]\tLoss : 0.0662\n",
      "Epoch : 23 [4000/15273(26.19%)]\tLoss : 0.0625\n",
      "Epoch : 23 [5000/15273(32.74%)]\tLoss : 0.0634\n",
      "Epoch : 23 [6000/15273(39.29%)]\tLoss : 0.0676\n",
      "Epoch : 23 [7000/15273(45.83%)]\tLoss : 0.0646\n",
      "Epoch : 23 [8000/15273(52.38%)]\tLoss : 0.0674\n",
      "Epoch : 23 [9000/15273(58.93%)]\tLoss : 0.0649\n",
      "Epoch : 23 [10000/15273(65.48%)]\tLoss : 0.0676\n",
      "Epoch : 23 [11000/15273(72.02%)]\tLoss : 0.0670\n",
      "Epoch : 23 [12000/15273(78.57%)]\tLoss : 0.0649\n",
      "Epoch : 23 [13000/15273(85.12%)]\tLoss : 0.0631\n",
      "Epoch : 23 [14000/15273(91.67%)]\tLoss : 0.0681\n",
      "Epoch : 23 [15000/15273(98.21%)]\tLoss : 0.0661\n",
      "Epoch [23/50], Average Train Loss : 0.0666, Average Test Loss : 0.0649\n",
      "\n",
      "Epoch : 24 [0/15273(0.00%)]\tLoss : 0.0620\n",
      "Epoch : 24 [1000/15273(6.55%)]\tLoss : 0.0646\n",
      "Epoch : 24 [2000/15273(13.10%)]\tLoss : 0.0653\n",
      "Epoch : 24 [3000/15273(19.64%)]\tLoss : 0.0645\n",
      "Epoch : 24 [4000/15273(26.19%)]\tLoss : 0.0634\n",
      "Epoch : 24 [5000/15273(32.74%)]\tLoss : 0.0674\n",
      "Epoch : 24 [6000/15273(39.29%)]\tLoss : 0.0652\n",
      "Epoch : 24 [7000/15273(45.83%)]\tLoss : 0.0636\n",
      "Epoch : 24 [8000/15273(52.38%)]\tLoss : 0.0631\n",
      "Epoch : 24 [9000/15273(58.93%)]\tLoss : 0.0618\n",
      "Epoch : 24 [10000/15273(65.48%)]\tLoss : 0.0639\n",
      "Epoch : 24 [11000/15273(72.02%)]\tLoss : 0.0663\n",
      "Epoch : 24 [12000/15273(78.57%)]\tLoss : 0.0650\n",
      "Epoch : 24 [13000/15273(85.12%)]\tLoss : 0.0685\n",
      "Epoch : 24 [14000/15273(91.67%)]\tLoss : 0.0661\n",
      "Epoch : 24 [15000/15273(98.21%)]\tLoss : 0.0618\n",
      "Epoch [24/50], Average Train Loss : 0.0645, Average Test Loss : 0.0654\n",
      "\n",
      "Epoch : 25 [0/15273(0.00%)]\tLoss : 0.0612\n",
      "Epoch : 25 [1000/15273(6.55%)]\tLoss : 0.0631\n",
      "Epoch : 25 [2000/15273(13.10%)]\tLoss : 0.0629\n",
      "Epoch : 25 [3000/15273(19.64%)]\tLoss : 0.0644\n",
      "Epoch : 25 [4000/15273(26.19%)]\tLoss : 0.0647\n",
      "Epoch : 25 [5000/15273(32.74%)]\tLoss : 0.0610\n",
      "Epoch : 25 [6000/15273(39.29%)]\tLoss : 0.0631\n",
      "Epoch : 25 [7000/15273(45.83%)]\tLoss : 0.0618\n",
      "Epoch : 25 [8000/15273(52.38%)]\tLoss : 0.0687\n",
      "Epoch : 25 [9000/15273(58.93%)]\tLoss : 0.0658\n",
      "Epoch : 25 [10000/15273(65.48%)]\tLoss : 0.0662\n",
      "Epoch : 25 [11000/15273(72.02%)]\tLoss : 0.0610\n",
      "Epoch : 25 [12000/15273(78.57%)]\tLoss : 0.0610\n",
      "Epoch : 25 [13000/15273(85.12%)]\tLoss : 0.0679\n",
      "Epoch : 25 [14000/15273(91.67%)]\tLoss : 0.0660\n",
      "Epoch : 25 [15000/15273(98.21%)]\tLoss : 0.0657\n",
      "Epoch [25/50], Average Train Loss : 0.0648, Average Test Loss : 0.0647\n",
      "\n",
      "Epoch : 26 [0/15273(0.00%)]\tLoss : 0.0598\n",
      "Epoch : 26 [1000/15273(6.55%)]\tLoss : 0.0663\n",
      "Epoch : 26 [2000/15273(13.10%)]\tLoss : 0.0712\n",
      "Epoch : 26 [3000/15273(19.64%)]\tLoss : 0.0611\n",
      "Epoch : 26 [4000/15273(26.19%)]\tLoss : 0.0675\n",
      "Epoch : 26 [5000/15273(32.74%)]\tLoss : 0.0657\n",
      "Epoch : 26 [6000/15273(39.29%)]\tLoss : 0.0636\n",
      "Epoch : 26 [7000/15273(45.83%)]\tLoss : 0.0621\n",
      "Epoch : 26 [8000/15273(52.38%)]\tLoss : 0.0612\n",
      "Epoch : 26 [9000/15273(58.93%)]\tLoss : 0.0647\n",
      "Epoch : 26 [10000/15273(65.48%)]\tLoss : 0.0630\n",
      "Epoch : 26 [11000/15273(72.02%)]\tLoss : 0.0650\n",
      "Epoch : 26 [12000/15273(78.57%)]\tLoss : 0.0609\n",
      "Epoch : 26 [13000/15273(85.12%)]\tLoss : 0.0664\n",
      "Epoch : 26 [14000/15273(91.67%)]\tLoss : 0.0607\n",
      "Epoch : 26 [15000/15273(98.21%)]\tLoss : 0.0648\n",
      "Epoch [26/50], Average Train Loss : 0.0638, Average Test Loss : 0.0634\n",
      "\n",
      "Epoch : 27 [0/15273(0.00%)]\tLoss : 0.0620\n",
      "Epoch : 27 [1000/15273(6.55%)]\tLoss : 0.0604\n",
      "Epoch : 27 [2000/15273(13.10%)]\tLoss : 0.0690\n",
      "Epoch : 27 [3000/15273(19.64%)]\tLoss : 0.0611\n",
      "Epoch : 27 [4000/15273(26.19%)]\tLoss : 0.0617\n",
      "Epoch : 27 [5000/15273(32.74%)]\tLoss : 0.0629\n",
      "Epoch : 27 [6000/15273(39.29%)]\tLoss : 0.0626\n",
      "Epoch : 27 [7000/15273(45.83%)]\tLoss : 0.0608\n",
      "Epoch : 27 [8000/15273(52.38%)]\tLoss : 0.0613\n",
      "Epoch : 27 [9000/15273(58.93%)]\tLoss : 0.0619\n",
      "Epoch : 27 [10000/15273(65.48%)]\tLoss : 0.0608\n",
      "Epoch : 27 [11000/15273(72.02%)]\tLoss : 0.0600\n",
      "Epoch : 27 [12000/15273(78.57%)]\tLoss : 0.0619\n",
      "Epoch : 27 [13000/15273(85.12%)]\tLoss : 0.0604\n",
      "Epoch : 27 [14000/15273(91.67%)]\tLoss : 0.0614\n",
      "Epoch : 27 [15000/15273(98.21%)]\tLoss : 0.0621\n",
      "Epoch [27/50], Average Train Loss : 0.0628, Average Test Loss : 0.0651\n",
      "\n",
      "Epoch : 28 [0/15273(0.00%)]\tLoss : 0.0629\n",
      "Epoch : 28 [1000/15273(6.55%)]\tLoss : 0.0643\n",
      "Epoch : 28 [2000/15273(13.10%)]\tLoss : 0.0594\n",
      "Epoch : 28 [3000/15273(19.64%)]\tLoss : 0.0607\n",
      "Epoch : 28 [4000/15273(26.19%)]\tLoss : 0.0648\n",
      "Epoch : 28 [5000/15273(32.74%)]\tLoss : 0.0612\n",
      "Epoch : 28 [6000/15273(39.29%)]\tLoss : 0.0607\n",
      "Epoch : 28 [7000/15273(45.83%)]\tLoss : 0.0589\n",
      "Epoch : 28 [8000/15273(52.38%)]\tLoss : 0.0603\n",
      "Epoch : 28 [9000/15273(58.93%)]\tLoss : 0.0619\n",
      "Epoch : 28 [10000/15273(65.48%)]\tLoss : 0.0639\n",
      "Epoch : 28 [11000/15273(72.02%)]\tLoss : 0.0595\n",
      "Epoch : 28 [12000/15273(78.57%)]\tLoss : 0.0598\n",
      "Epoch : 28 [13000/15273(85.12%)]\tLoss : 0.0674\n",
      "Epoch : 28 [14000/15273(91.67%)]\tLoss : 0.0608\n",
      "Epoch : 28 [15000/15273(98.21%)]\tLoss : 0.0604\n",
      "Epoch [28/50], Average Train Loss : 0.0622, Average Test Loss : 0.0612\n",
      "\n",
      "Epoch : 29 [0/15273(0.00%)]\tLoss : 0.0608\n",
      "Epoch : 29 [1000/15273(6.55%)]\tLoss : 0.0608\n",
      "Epoch : 29 [2000/15273(13.10%)]\tLoss : 0.0598\n",
      "Epoch : 29 [3000/15273(19.64%)]\tLoss : 0.0595\n",
      "Epoch : 29 [4000/15273(26.19%)]\tLoss : 0.0595\n",
      "Epoch : 29 [5000/15273(32.74%)]\tLoss : 0.0650\n",
      "Epoch : 29 [6000/15273(39.29%)]\tLoss : 0.0589\n",
      "Epoch : 29 [7000/15273(45.83%)]\tLoss : 0.0590\n",
      "Epoch : 29 [8000/15273(52.38%)]\tLoss : 0.0596\n",
      "Epoch : 29 [9000/15273(58.93%)]\tLoss : 0.0674\n",
      "Epoch : 29 [10000/15273(65.48%)]\tLoss : 0.0611\n",
      "Epoch : 29 [11000/15273(72.02%)]\tLoss : 0.0593\n",
      "Epoch : 29 [12000/15273(78.57%)]\tLoss : 0.0601\n",
      "Epoch : 29 [13000/15273(85.12%)]\tLoss : 0.0660\n",
      "Epoch : 29 [14000/15273(91.67%)]\tLoss : 0.0669\n",
      "Epoch : 29 [15000/15273(98.21%)]\tLoss : 0.0618\n",
      "Epoch [29/50], Average Train Loss : 0.0617, Average Test Loss : 0.0650\n",
      "\n",
      "Epoch : 30 [0/15273(0.00%)]\tLoss : 0.0618\n",
      "Epoch : 30 [1000/15273(6.55%)]\tLoss : 0.0644\n",
      "Epoch : 30 [2000/15273(13.10%)]\tLoss : 0.0597\n",
      "Epoch : 30 [3000/15273(19.64%)]\tLoss : 0.0613\n",
      "Epoch : 30 [4000/15273(26.19%)]\tLoss : 0.0602\n",
      "Epoch : 30 [5000/15273(32.74%)]\tLoss : 0.0586\n",
      "Epoch : 30 [6000/15273(39.29%)]\tLoss : 0.0644\n",
      "Epoch : 30 [7000/15273(45.83%)]\tLoss : 0.0600\n",
      "Epoch : 30 [8000/15273(52.38%)]\tLoss : 0.0662\n",
      "Epoch : 30 [9000/15273(58.93%)]\tLoss : 0.0605\n",
      "Epoch : 30 [10000/15273(65.48%)]\tLoss : 0.0651\n",
      "Epoch : 30 [11000/15273(72.02%)]\tLoss : 0.0652\n",
      "Epoch : 30 [12000/15273(78.57%)]\tLoss : 0.0585\n",
      "Epoch : 30 [13000/15273(85.12%)]\tLoss : 0.0610\n",
      "Epoch : 30 [14000/15273(91.67%)]\tLoss : 0.0636\n",
      "Epoch : 30 [15000/15273(98.21%)]\tLoss : 0.0607\n",
      "Epoch [30/50], Average Train Loss : 0.0614, Average Test Loss : 0.0607\n",
      "\n",
      "Epoch : 31 [0/15273(0.00%)]\tLoss : 0.0661\n",
      "Epoch : 31 [1000/15273(6.55%)]\tLoss : 0.0601\n",
      "Epoch : 31 [2000/15273(13.10%)]\tLoss : 0.0665\n",
      "Epoch : 31 [3000/15273(19.64%)]\tLoss : 0.0596\n",
      "Epoch : 31 [4000/15273(26.19%)]\tLoss : 0.0625\n",
      "Epoch : 31 [5000/15273(32.74%)]\tLoss : 0.0645\n",
      "Epoch : 31 [6000/15273(39.29%)]\tLoss : 0.0644\n",
      "Epoch : 31 [7000/15273(45.83%)]\tLoss : 0.0597\n",
      "Epoch : 31 [8000/15273(52.38%)]\tLoss : 0.0595\n",
      "Epoch : 31 [9000/15273(58.93%)]\tLoss : 0.0577\n",
      "Epoch : 31 [10000/15273(65.48%)]\tLoss : 0.0596\n",
      "Epoch : 31 [11000/15273(72.02%)]\tLoss : 0.0601\n",
      "Epoch : 31 [12000/15273(78.57%)]\tLoss : 0.0589\n",
      "Epoch : 31 [13000/15273(85.12%)]\tLoss : 0.0594\n",
      "Epoch : 31 [14000/15273(91.67%)]\tLoss : 0.0642\n",
      "Epoch : 31 [15000/15273(98.21%)]\tLoss : 0.0583\n",
      "Epoch [31/50], Average Train Loss : 0.0609, Average Test Loss : 0.0658\n",
      "\n",
      "Epoch : 32 [0/15273(0.00%)]\tLoss : 0.0647\n",
      "Epoch : 32 [1000/15273(6.55%)]\tLoss : 0.0604\n",
      "Epoch : 32 [2000/15273(13.10%)]\tLoss : 0.0597\n",
      "Epoch : 32 [3000/15273(19.64%)]\tLoss : 0.0588\n",
      "Epoch : 32 [4000/15273(26.19%)]\tLoss : 0.0588\n",
      "Epoch : 32 [5000/15273(32.74%)]\tLoss : 0.0599\n",
      "Epoch : 32 [6000/15273(39.29%)]\tLoss : 0.0657\n",
      "Epoch : 32 [7000/15273(45.83%)]\tLoss : 0.0616\n",
      "Epoch : 32 [8000/15273(52.38%)]\tLoss : 0.0659\n",
      "Epoch : 32 [9000/15273(58.93%)]\tLoss : 0.0586\n",
      "Epoch : 32 [10000/15273(65.48%)]\tLoss : 0.0582\n",
      "Epoch : 32 [11000/15273(72.02%)]\tLoss : 0.0590\n",
      "Epoch : 32 [12000/15273(78.57%)]\tLoss : 0.0584\n",
      "Epoch : 32 [13000/15273(85.12%)]\tLoss : 0.0597\n",
      "Epoch : 32 [14000/15273(91.67%)]\tLoss : 0.0603\n",
      "Epoch : 32 [15000/15273(98.21%)]\tLoss : 0.0605\n",
      "Epoch [32/50], Average Train Loss : 0.0609, Average Test Loss : 0.0603\n",
      "\n",
      "Epoch : 33 [0/15273(0.00%)]\tLoss : 0.0600\n",
      "Epoch : 33 [1000/15273(6.55%)]\tLoss : 0.0587\n",
      "Epoch : 33 [2000/15273(13.10%)]\tLoss : 0.0615\n",
      "Epoch : 33 [3000/15273(19.64%)]\tLoss : 0.0619\n",
      "Epoch : 33 [4000/15273(26.19%)]\tLoss : 0.0647\n",
      "Epoch : 33 [5000/15273(32.74%)]\tLoss : 0.0586\n",
      "Epoch : 33 [6000/15273(39.29%)]\tLoss : 0.0588\n",
      "Epoch : 33 [7000/15273(45.83%)]\tLoss : 0.0571\n",
      "Epoch : 33 [8000/15273(52.38%)]\tLoss : 0.0680\n",
      "Epoch : 33 [9000/15273(58.93%)]\tLoss : 0.0581\n",
      "Epoch : 33 [10000/15273(65.48%)]\tLoss : 0.0592\n",
      "Epoch : 33 [11000/15273(72.02%)]\tLoss : 0.0594\n",
      "Epoch : 33 [12000/15273(78.57%)]\tLoss : 0.0589\n",
      "Epoch : 33 [13000/15273(85.12%)]\tLoss : 0.0607\n",
      "Epoch : 33 [14000/15273(91.67%)]\tLoss : 0.0592\n",
      "Epoch : 33 [15000/15273(98.21%)]\tLoss : 0.0667\n",
      "Epoch [33/50], Average Train Loss : 0.0604, Average Test Loss : 0.0632\n",
      "\n",
      "Epoch : 34 [0/15273(0.00%)]\tLoss : 0.0601\n",
      "Epoch : 34 [1000/15273(6.55%)]\tLoss : 0.0589\n",
      "Epoch : 34 [2000/15273(13.10%)]\tLoss : 0.0569\n",
      "Epoch : 34 [3000/15273(19.64%)]\tLoss : 0.0575\n",
      "Epoch : 34 [4000/15273(26.19%)]\tLoss : 0.0595\n",
      "Epoch : 34 [5000/15273(32.74%)]\tLoss : 0.0576\n",
      "Epoch : 34 [6000/15273(39.29%)]\tLoss : 0.0593\n",
      "Epoch : 34 [7000/15273(45.83%)]\tLoss : 0.0580\n",
      "Epoch : 34 [8000/15273(52.38%)]\tLoss : 0.0576\n",
      "Epoch : 34 [9000/15273(58.93%)]\tLoss : 0.0628\n",
      "Epoch : 34 [10000/15273(65.48%)]\tLoss : 0.0656\n",
      "Epoch : 34 [11000/15273(72.02%)]\tLoss : 0.0606\n",
      "Epoch : 34 [12000/15273(78.57%)]\tLoss : 0.0593\n",
      "Epoch : 34 [13000/15273(85.12%)]\tLoss : 0.0622\n",
      "Epoch : 34 [14000/15273(91.67%)]\tLoss : 0.0558\n",
      "Epoch : 34 [15000/15273(98.21%)]\tLoss : 0.0578\n",
      "Epoch [34/50], Average Train Loss : 0.0601, Average Test Loss : 0.0614\n",
      "\n",
      "Epoch : 35 [0/15273(0.00%)]\tLoss : 0.0594\n",
      "Epoch : 35 [1000/15273(6.55%)]\tLoss : 0.0573\n",
      "Epoch : 35 [2000/15273(13.10%)]\tLoss : 0.0564\n",
      "Epoch : 35 [3000/15273(19.64%)]\tLoss : 0.0587\n",
      "Epoch : 35 [4000/15273(26.19%)]\tLoss : 0.0623\n",
      "Epoch : 35 [5000/15273(32.74%)]\tLoss : 0.0609\n",
      "Epoch : 35 [6000/15273(39.29%)]\tLoss : 0.0577\n",
      "Epoch : 35 [7000/15273(45.83%)]\tLoss : 0.0593\n",
      "Epoch : 35 [8000/15273(52.38%)]\tLoss : 0.0634\n",
      "Epoch : 35 [9000/15273(58.93%)]\tLoss : 0.0601\n",
      "Epoch : 35 [10000/15273(65.48%)]\tLoss : 0.0567\n",
      "Epoch : 35 [11000/15273(72.02%)]\tLoss : 0.0590\n",
      "Epoch : 35 [12000/15273(78.57%)]\tLoss : 0.0564\n",
      "Epoch : 35 [13000/15273(85.12%)]\tLoss : 0.0594\n",
      "Epoch : 35 [14000/15273(91.67%)]\tLoss : 0.0579\n",
      "Epoch : 35 [15000/15273(98.21%)]\tLoss : 0.0571\n",
      "Epoch [35/50], Average Train Loss : 0.0592, Average Test Loss : 0.0628\n",
      "\n"
     ]
    }
   ],
   "source": [
    "ae_loss = nn.MSELoss()\n",
    "ae_optimizer = optim.Adam(ae.parameters())\n",
    "avg_train_loss, avg_test_loss = train(ae, ae_loss, ae_optimizer, 50, start_epoch=0, early_stopping=True)"
   ]
  },
  {
   "cell_type": "code",
   "execution_count": 11,
   "metadata": {},
   "outputs": [
    {
     "data": {
      "image/png": "[encoded data removed]",
      "text/plain": [
       "<Figure size 432x288 with 1 Axes>"
      ]
     },
     "metadata": {
      "needs_background": "light"
     },
     "output_type": "display_data"
    }
   ],
   "source": [
    "import matplotlib.pyplot as plt\n",
    "plt.plot(avg_train_loss, label='train')\n",
    "plt.plot(avg_test_loss, label='test')\n",
    "plt.legend()\n",
    "\n",
    "plt.show()"
   ]
  },
  {
   "cell_type": "code",
   "execution_count": 12,
   "metadata": {},
   "outputs": [],
   "source": [
    "def plot_mel(s):\n",
    "    sr = 16000\n",
    "    frame_stride = 0.0126\n",
    "    input_stride = int(round(sr*frame_stride))\n",
    "    librosa.display.specshow(s, sr=16000, hop_length=input_stride,\\\n",
    "        y_axis='mel', x_axis='time')\n",
    "    plt.colorbar(format='%+2.0f dB')\n",
    "    plt.title('Mel Spectogram')\n",
    "    plt.tight_layout()\n",
    "    plt.show()"
   ]
  },
  {
   "cell_type": "code",
   "execution_count": 13,
   "metadata": {},
   "outputs": [],
   "source": [
    "def plot_mel_2(s1, s2):\n",
    "    sr = 16000\n",
    "    frame_stride = 0.0126\n",
    "    input_stride = int(round(sr*frame_stride))\n",
    "\n",
    "    plt.figure(figsize=(20,4))\n",
    "    plt.subplot(1,2,1)\n",
    "    librosa.display.specshow(s1, sr=16000, hop_length=input_stride,\\\n",
    "        y_axis='mel', x_axis='time')\n",
    "    plt.colorbar(format='%+2.0f dB')\n",
    "    plt.title('Original')\n",
    "    plt.tight_layout()\n",
    "\n",
    "    plt.subplot(1,2,2)\n",
    "    librosa.display.specshow(s2, sr=16000, hop_length=input_stride,\\\n",
    "        y_axis='mel', x_axis='time')\n",
    "    plt.colorbar(format='%+2.0f dB')\n",
    "    plt.title('Output')\n",
    "    plt.tight_layout()\n",
    "\n",
    "    plt.show()"
   ]
  },
  {
   "cell_type": "code",
   "execution_count": 14,
   "metadata": {},
   "outputs": [
    {
     "data": {
      "image/png": "[encoded data removed]",
      "text/plain": [
       "<Figure size 1440x288 with 3 Axes>"
      ]
     },
     "metadata": {
      "needs_background": "light"
     },
     "output_type": "display_data"
    },
    {
     "data": {
      "image/png": "[encoded data removed]",
      "text/plain": [
       "<Figure size 1440x288 with 3 Axes>"
      ]
     },
     "metadata": {
      "needs_background": "light"
     },
     "output_type": "display_data"
    }
   ],
   "source": [
    "for data in train_loader:\n",
    "    for i in range(2):\n",
    "        a = data[i].cpu().detach().numpy()\n",
    "        b = ae(torch.Tensor(a.reshape(1,1,40,80)).cuda())\n",
    "        plot_mel_2(a.squeeze(), b.cpu().detach().numpy().squeeze())\n",
    "    break"
   ]
  },
  {
   "cell_type": "code",
   "execution_count": 15,
   "metadata": {},
   "outputs": [],
   "source": [
    "def log_Mel_S(wav_file):\n",
    "    sr = 16000\n",
    "    frame_length = 0.025\n",
    "    frame_stride = 0.0126 \n",
    "    y, sr = librosa.load(wav_file, sr=sr)\n",
    "    if len(y) < 16000:\n",
    "        y = np.pad(y, (0,16000 - len(y)))\n",
    "    elif len(y) > 16000:\n",
    "        y = y[:16000]\n",
    "    else:\n",
    "        y = y\n",
    "\n",
    "    input_nfft = int(round(sr * frame_length))\n",
    "    input_stride = int(round(sr * frame_stride))\n",
    "\n",
    "    s = librosa.feature.melspectrogram(y=y, n_mels=40, n_fft=input_nfft, hop_length=input_stride)\n",
    "    s = librosa.power_to_db(s, ref=np.max)\n",
    "    return s\n",
    "\n",
    "def log_mel_to_audio(log_mel):\n",
    "    sr = 16000\n",
    "    frame_length = 0.025\n",
    "    frame_stride = 0.0126 \n",
    "    \n",
    "    mel = librosa.db_to_power(log_mel)\n",
    "    \n",
    "    input_nfft = int(round(sr*frame_length))\n",
    "    input_stride = int(round(sr*frame_stride))\n",
    "    return librosa.feature.inverse.mel_to_audio(mel, sr=sr, n_fft=input_nfft, hop_length=input_stride)"
   ]
  },
  {
   "cell_type": "code",
   "execution_count": 16,
   "metadata": {},
   "outputs": [
    {
     "data": {
      "image/png": "[encoded data removed]",
      "text/plain": [
       "<Figure size 1440x288 with 3 Axes>"
      ]
     },
     "metadata": {
      "needs_background": "light"
     },
     "output_type": "display_data"
    },
    {
     "name": "stdout",
     "output_type": "stream",
     "text": [
      "loss : 44.73695373535156\n"
     ]
    }
   ],
   "source": [
    "mse = nn.MSELoss()\n",
    "data_path = 'data/원천데이터/abnormal_1s/가스사고_512992_label_1.wav'\n",
    "s = log_Mel_S(data_path)\n",
    "out = ae(torch.Tensor(s.reshape(1,1,40,80)).cuda())\n",
    "out = out.cpu().detach().numpy().squeeze()\n",
    "plot_mel_2(s, out)\n",
    "\n",
    "loss = mse(torch.Tensor(s).cuda(), torch.Tensor(out).cuda())\n",
    "print(f\"loss : {loss}\")"
   ]
  },
  {
   "cell_type": "code",
   "execution_count": 17,
   "metadata": {},
   "outputs": [
    {
     "data": {
      "image/png": "[encoded data removed]",
      "text/plain": [
       "<Figure size 1440x288 with 3 Axes>"
      ]
     },
     "metadata": {
      "needs_background": "light"
     },
     "output_type": "display_data"
    },
    {
     "name": "stdout",
     "output_type": "stream",
     "text": [
      "loss : 5.761538982391357\n"
     ]
    }
   ],
   "source": [
    "data_path = 'data/원천데이터/normal_1s/실내_673584_label_0.wav'\n",
    "s = log_Mel_S(data_path)\n",
    "out = ae(torch.Tensor(s.reshape(1,1,40,80)).cuda())\n",
    "out = out.cpu().detach().numpy().squeeze()\n",
    "plot_mel_2(s, out)\n",
    "\n",
    "loss = mse(torch.Tensor(s).cuda(), torch.Tensor(out).cuda())\n",
    "print(f\"loss : {loss}\")"
   ]
  },
  {
   "cell_type": "code",
   "execution_count": 27,
   "metadata": {},
   "outputs": [],
   "source": [
    "abnormal_dataset = AudioDataset(path='/mnt/storage1/위급상황 음성_음향/Training/bc_data/test/abnormal')\n",
    "normal_dataset = AudioDataset(path='/mnt/storage1/위급상황 음성_음향/Training/bc_data/test/normal')\n",
    "\n",
    "abnormal_loader = DataLoader(dataset=abnormal_dataset, batch_size=1, shuffle=False)\n",
    "normal_loader = DataLoader(dataset=normal_dataset, batch_size=1, shuffle=False)"
   ]
  },
  {
   "cell_type": "code",
   "execution_count": 28,
   "metadata": {},
   "outputs": [],
   "source": [
    "mse = nn.MSELoss()\n",
    "abnormal_loss = []\n",
    "\n",
    "for idx, data in enumerate(abnormal_loader):\n",
    "    # if idx == 4700:\n",
    "    #     break\n",
    "    data = data.cuda()\n",
    "    output = ae(data)\n",
    "    loss = mse(data, output)\n",
    "    abnormal_loss.append(loss.item())"
   ]
  },
  {
   "cell_type": "code",
   "execution_count": 29,
   "metadata": {},
   "outputs": [
    {
     "data": {
      "text/plain": [
       "6573"
      ]
     },
     "execution_count": 29,
     "metadata": {},
     "output_type": "execute_result"
    }
   ],
   "source": [
    "len(abnormal_loss)"
   ]
  },
  {
   "cell_type": "code",
   "execution_count": 30,
   "metadata": {},
   "outputs": [],
   "source": [
    "normal_loss = []\n",
    "\n",
    "for idx, data in enumerate(normal_loader):\n",
    "    # if idx == 4700:\n",
    "    #     break\n",
    "    data = data.cuda()\n",
    "    for d in data:\n",
    "        d = d.reshape((1,1,40,80))\n",
    "        output = ae(d)\n",
    "        loss = mse(d, output)\n",
    "        normal_loss.append(loss.item())"
   ]
  },
  {
   "cell_type": "code",
   "execution_count": 31,
   "metadata": {},
   "outputs": [
    {
     "data": {
      "text/plain": [
       "4772"
      ]
     },
     "execution_count": 31,
     "metadata": {},
     "output_type": "execute_result"
    }
   ],
   "source": [
    "len(normal_loss)"
   ]
  },
  {
   "cell_type": "code",
   "execution_count": 32,
   "metadata": {},
   "outputs": [
    {
     "data": {
      "image/png": "[encoded data removed]",
      "text/plain": [
       "<Figure size 432x288 with 1 Axes>"
      ]
     },
     "metadata": {
      "needs_background": "light"
     },
     "output_type": "display_data"
    }
   ],
   "source": [
    "import matplotlib.pyplot as plt\n",
    "\n",
    "plt.hist(normal_loss, color='r', alpha=0.5, bins=100, label='normal')\n",
    "plt.hist(abnormal_loss, color='b', alpha=0.5, bins=100, label='abnormal')\n",
    "plt.legend()\n",
    "\n",
    "plt.show()"
   ]
  },
  {
   "cell_type": "code",
   "execution_count": 33,
   "metadata": {},
   "outputs": [
    {
     "data": {
      "image/png": "[encoded data removed]",
      "text/plain": [
       "<Figure size 432x288 with 1 Axes>"
      ]
     },
     "metadata": {
      "needs_background": "light"
     },
     "output_type": "display_data"
    }
   ],
   "source": [
    "plt.hist(normal_loss, color='r', alpha=0.5, bins=100, label='normal')\n",
    "plt.show()"
   ]
  },
  {
   "cell_type": "code",
   "execution_count": 34,
   "metadata": {},
   "outputs": [
    {
     "data": {
      "image/png": "[encoded data removed]",
      "text/plain": [
       "<Figure size 432x288 with 1 Axes>"
      ]
     },
     "metadata": {
      "needs_background": "light"
     },
     "output_type": "display_data"
    }
   ],
   "source": [
    "plt.hist(abnormal_loss, color='b', alpha=0.5, bins=100, label='abnormal')\n",
    "plt.show()"
   ]
  },
  {
   "cell_type": "code",
   "execution_count": 35,
   "metadata": {},
   "outputs": [],
   "source": [
    "thres_list = np.linspace(5,15,21)\n",
    "accuracy_list = []\n",
    "for thres in thres_list:\n",
    "    accuracy = ( sum(normal_loss <= thres) + sum(abnormal_loss > thres) ) / ( len(normal_loss) + len(abnormal_loss) )\n",
    "    accuracy_list.append(accuracy)"
   ]
  },
  {
   "cell_type": "code",
   "execution_count": 36,
   "metadata": {},
   "outputs": [
    {
     "data": {
      "image/png": "[encoded data removed]",
      "text/plain": [
       "<Figure size 432x288 with 1 Axes>"
      ]
     },
     "metadata": {
      "needs_background": "light"
     },
     "output_type": "display_data"
    }
   ],
   "source": [
    "plt.plot(accuracy_list, 'o')\n",
    "plt.show()"
   ]
  },
  {
   "cell_type": "code",
   "execution_count": 37,
   "metadata": {},
   "outputs": [
    {
     "data": {
      "text/plain": [
       "(8, 9.0, 0.9835169678272366)"
      ]
     },
     "execution_count": 37,
     "metadata": {},
     "output_type": "execute_result"
    }
   ],
   "source": [
    "np.argmax(accuracy_list), thres_list[np.argmax(accuracy_list)], accuracy_list[np.argmax(accuracy_list)]"
   ]
  },
  {
   "cell_type": "code",
   "execution_count": 38,
   "metadata": {},
   "outputs": [
    {
     "name": "stdout",
     "output_type": "stream",
     "text": [
      "accuracy : 98.35169678272366\n"
     ]
    }
   ],
   "source": [
    "thres = thres_list[np.argmax(accuracy_list)]\n",
    "accuracy = ( sum(normal_loss <= thres) + sum(abnormal_loss > thres) ) / ( len(normal_loss) + len(abnormal_loss) )\n",
    "print(f\"accuracy : {accuracy * 100}\")"
   ]
  },
  {
   "cell_type": "code",
   "execution_count": 39,
   "metadata": {},
   "outputs": [],
   "source": [
    "torch.save(ae.state_dict(), 'model/model_0403.pt')"
   ]
  },
  {
   "cell_type": "code",
   "execution_count": 40,
   "metadata": {},
   "outputs": [],
   "source": [
    "abnormal_loss = np.array(abnormal_loss)\n",
    "normal_loss = np.array(normal_loss)\n",
    "\n",
    "TN = len(abnormal_loss[abnormal_loss > thres])\n",
    "FP = len(abnormal_loss[abnormal_loss <= thres])\n",
    "TP = len(normal_loss[normal_loss <= thres])\n",
    "FN = len(normal_loss[normal_loss > thres])"
   ]
  },
  {
   "cell_type": "code",
   "execution_count": 41,
   "metadata": {},
   "outputs": [
    {
     "name": "stdout",
     "output_type": "stream",
     "text": [
      "               Predict               \n",
      "             Normal    Abnormal  \n",
      "Normal        4688         84\n",
      "Abnormal       103       6470\n"
     ]
    }
   ],
   "source": [
    "print(f\"{' '*15}Predict{' '*15}\")\n",
    "print(f\"{' '*13}{'Normal':10s}{'Abnormal':10s}\")\n",
    "print(f\"Normal  {TP:10d}{FN:11d}\")\n",
    "print(f\"Abnormal{FP:10d}{TN:11d}\")"
   ]
  },
  {
   "cell_type": "code",
   "execution_count": null,
   "metadata": {},
   "outputs": [],
   "source": []
  },
  {
   "cell_type": "code",
   "execution_count": null,
   "metadata": {},
   "outputs": [],
   "source": []
  }
 ],
 "metadata": {
  "interpreter": {
   "hash": "7f625d1f143474bbd97fe34f158cee8f42e73fd18755d10f5b95b794645d1ccd"
  },
  "kernelspec": {
   "display_name": "Python 3.8.12 64-bit ('pytorch': conda)",
   "name": "python3"
  },
  "language_info": {
   "codemirror_mode": {
    "name": "ipython",
    "version": 3
   },
   "file_extension": ".py",
   "mimetype": "text/x-python",
   "name": "python",
   "nbconvert_exporter": "python",
   "pygments_lexer": "ipython3",
   "version": "3.8.12"
  }
 },
 "nbformat": 4,
 "nbformat_minor": 5
}
