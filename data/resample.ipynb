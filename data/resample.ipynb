{
 "cells": [
  {
   "cell_type": "code",
   "execution_count": 1,
   "id": "c132d3d8",
   "metadata": {},
   "outputs": [],
   "source": [
    "import librosa\n",
    "import soundfile as sf\n",
    "import glob"
   ]
  },
  {
   "cell_type": "code",
   "execution_count": 2,
   "id": "df2b0590",
   "metadata": {},
   "outputs": [],
   "source": [
    "def resample(data_path, orig_sr, re_sr):\n",
    "    data, sr = librosa.load(data_path, sr=orig_sr)\n",
    "    resample_data = librosa.resample(data, sr, re_sr)\n",
    "    \n",
    "    return resample_data"
   ]
  },
  {
   "cell_type": "code",
   "execution_count": 3,
   "id": "afefe97f",
   "metadata": {},
   "outputs": [],
   "source": [
    "data_list = glob.glob('sample/*.wav')"
   ]
  },
  {
   "cell_type": "code",
   "execution_count": 4,
   "id": "72128eec",
   "metadata": {},
   "outputs": [
    {
     "data": {
      "text/plain": [
       "'1.강제추행(성범죄)_652583_label.wav'"
      ]
     },
     "execution_count": 4,
     "metadata": {},
     "output_type": "execute_result"
    }
   ],
   "source": [
    "data_list[0].split(\"/\")[1]"
   ]
  },
  {
   "cell_type": "code",
   "execution_count": 5,
   "id": "7c659d50",
   "metadata": {},
   "outputs": [],
   "source": [
    "original_sr = 44100\n",
    "resample_sr = 16000\n",
    "\n",
    "for path in data_list:\n",
    "    name = path.split(\"/\")[1]\n",
    "    resample_data = resample(path, original_sr, resample_sr)\n",
    "    sf.write(f'sample_16/{name}', resample_data, resample_sr)"
   ]
  },
  {
   "cell_type": "code",
   "execution_count": 6,
   "id": "7202f151",
   "metadata": {},
   "outputs": [
    {
     "name": "stdout",
     "output_type": "stream",
     "text": [
      "original : 1073\n",
      "resample : 1073\n"
     ]
    }
   ],
   "source": [
    "import os\n",
    "\n",
    "print(f\"original : {len(os.listdir('sample'))}\")\n",
    "print(f\"resample : {len(os.listdir('sample_16'))}\")"
   ]
  },
  {
   "cell_type": "code",
   "execution_count": null,
   "id": "4bb8718e",
   "metadata": {},
   "outputs": [],
   "source": []
  }
 ],
 "metadata": {
  "kernelspec": {
   "display_name": "pytorch",
   "language": "python",
   "name": "pytorch"
  },
  "language_info": {
   "codemirror_mode": {
    "name": "ipython",
    "version": 3
   },
   "file_extension": ".py",
   "mimetype": "text/x-python",
   "name": "python",
   "nbconvert_exporter": "python",
   "pygments_lexer": "ipython3",
   "version": "3.8.12"
  }
 },
 "nbformat": 4,
 "nbformat_minor": 5
}
