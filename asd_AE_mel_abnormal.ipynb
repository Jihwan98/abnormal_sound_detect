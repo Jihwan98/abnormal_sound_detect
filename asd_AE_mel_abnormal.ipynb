{
 "cells": [
  {
   "cell_type": "code",
   "execution_count": 1,
   "id": "0a570b65",
   "metadata": {},
   "outputs": [],
   "source": [
    "import torch\n",
    "import torch.nn as nn\n",
    "import torch.nn.functional as F\n",
    "import torch.optim as optim\n",
    "from torchvision import datasets, transforms\n",
    "from torch.utils.data import Dataset, DataLoader, SubsetRandomSampler\n",
    "import glob\n",
    "import librosa\n",
    "import numpy as np\n",
    "\n",
    "from torchsummary import summary"
   ]
  },
  {
   "cell_type": "code",
   "execution_count": 2,
   "id": "818eb990",
   "metadata": {},
   "outputs": [],
   "source": [
    "class AudioDataset(Dataset):\n",
    "    def __init__(self, path, transform=None, sample_rate=16000):\n",
    "        self.path = path\n",
    "        self.data_list = glob.glob(self.path + '/*.wav')\n",
    "        \n",
    "        self.transform = transform\n",
    "        self.sr = sample_rate\n",
    "        self.frame_length = 0.025 # win_length, 자연어 처리 분야에서 25ms 크기를 기본으로 하고 있음 (16000Hz -> 400)\n",
    "        self.frame_stride = 0.0126 # hop_length, 일반적으로 10ms의 크기를 기본으로 하고 있음 (16000Hz -> 160)\n",
    "        \n",
    "        self.max = 47.9783\n",
    "        self.min = 0\n",
    "        \n",
    "    def __len__(self):\n",
    "        return len(self.data_list)\n",
    "    \n",
    "    def __getitem__(self, idx):\n",
    "        data_path = self.data_list[idx]\n",
    "        data = self.normalize(self.Mel_S(data_path))\n",
    "        data = np.expand_dims(data, axis=0)\n",
    "        \n",
    "        if self.transform is not None:\n",
    "            data = self.transform(data)\n",
    "        \n",
    "        return data # (1, 40, 80)\n",
    "    \n",
    "    def Mel_S(self, wav_file):\n",
    "        y, sr = librosa.load(wav_file, sr=self.sr)\n",
    "    \n",
    "        input_nfft = int(round(sr*self.frame_length))\n",
    "        input_stride = int(round(sr*self.frame_stride))\n",
    "\n",
    "        s = librosa.feature.melspectrogram(y=y, n_mels=40, n_fft=input_nfft, hop_length=input_stride)\n",
    "#         print(f\"Wav lenght : {len(y)/sr}, Mes_S shape : {np.shape(S)}\")\n",
    "        \n",
    "        return s\n",
    "    \n",
    "    def normalize(self, s):\n",
    "#         s = (s - s.mean()) / s.std() # standardization\n",
    "#         s = (s - s.min()) / (s.max() - s.min()) # min max normalization\n",
    "        s = (s - self.min) / (self.max - self.min)\n",
    "        \n",
    "        return s"
   ]
  },
  {
   "cell_type": "code",
   "execution_count": 3,
   "id": "2ec0eec9",
   "metadata": {},
   "outputs": [],
   "source": [
    "dataset = AudioDataset(path='data/원천데이터/abnormal_1s')\n",
    "\n",
    "dataset.__len__()\n",
    "dataset_indices = list(range(dataset.__len__()))\n",
    "np.random.shuffle(dataset_indices)\n",
    "val_split_index = int(np.floor(0.2 * dataset.__len__()))\n",
    "train_idx, val_idx = dataset_indices[val_split_index:], dataset_indices[:val_split_index]\n",
    "\n",
    "train_sampler = SubsetRandomSampler(train_idx)\n",
    "val_sampler = SubsetRandomSampler(val_idx)\n",
    "\n",
    "train_loader = DataLoader(dataset=dataset, batch_size=100, sampler=train_sampler, shuffle=False)\n",
    "val_loader = DataLoader(dataset=dataset, batch_size=100, sampler=val_sampler, shuffle=False)"
   ]
  },
  {
   "cell_type": "code",
   "execution_count": 4,
   "id": "a660f82b",
   "metadata": {},
   "outputs": [],
   "source": [
    "# data_max = 0\n",
    "# data_min = 100\n",
    "# for data in train_loader:\n",
    "#     if data.max() > data_max:\n",
    "#         data_max = data.max()\n",
    "#     if data.min() < data_min:\n",
    "#         data_min = data.min()\n",
    "# data_max, data_min"
   ]
  },
  {
   "cell_type": "code",
   "execution_count": 5,
   "id": "b86ca7a8",
   "metadata": {},
   "outputs": [],
   "source": [
    "class AE(nn.Module):\n",
    "    def __init__(self, input_channel=1, h_dim=128*5*10, z_dim=512):\n",
    "        super(AE, self).__init__()\n",
    "        \n",
    "        self.encoder = nn.Sequential(\n",
    "            nn.Conv2d(1, 32, kernel_size=3, stride=1, padding=1),\n",
    "            nn.ReLU(),\n",
    "            nn.MaxPool2d(2),\n",
    "            nn.Conv2d(32, 64, kernel_size=3, stride=1, padding=1),\n",
    "            nn.ReLU(),\n",
    "            nn.MaxPool2d(2),\n",
    "            nn.Conv2d(64, 128, kernel_size=3, stride=1, padding=1),\n",
    "            nn.ReLU(),\n",
    "            nn.MaxPool2d(2),\n",
    "        )\n",
    "        \n",
    "        self.decoder = nn.Sequential(\n",
    "            nn.ConvTranspose2d(128, 64, kernel_size=4, stride=2, padding=1),\n",
    "            nn.ReLU(),\n",
    "            nn.ConvTranspose2d(64, 32, kernel_size=4, stride=2, padding=1),\n",
    "            nn.ReLU(),\n",
    "            nn.ConvTranspose2d(32, 1, kernel_size=4, stride=2, padding=1),\n",
    "            nn.Sigmoid()\n",
    "        )\n",
    "        \n",
    "    \n",
    "    def forward(self, x):\n",
    "        out = self.encoder(x)\n",
    "        out = self.decoder(out)\n",
    "        return out\n",
    "    \n",
    "    def get_codes(self, x):\n",
    "        return self.encoder(x)\n",
    "\n",
    "ae = AE()\n",
    "if torch.cuda.is_available():\n",
    "    ae.cuda()"
   ]
  },
  {
   "cell_type": "code",
   "execution_count": 6,
   "id": "d397cc3c",
   "metadata": {},
   "outputs": [
    {
     "data": {
      "text/plain": [
       "AE(\n",
       "  (encoder): Sequential(\n",
       "    (0): Conv2d(1, 32, kernel_size=(3, 3), stride=(1, 1), padding=(1, 1))\n",
       "    (1): ReLU()\n",
       "    (2): MaxPool2d(kernel_size=2, stride=2, padding=0, dilation=1, ceil_mode=False)\n",
       "    (3): Conv2d(32, 64, kernel_size=(3, 3), stride=(1, 1), padding=(1, 1))\n",
       "    (4): ReLU()\n",
       "    (5): MaxPool2d(kernel_size=2, stride=2, padding=0, dilation=1, ceil_mode=False)\n",
       "    (6): Conv2d(64, 128, kernel_size=(3, 3), stride=(1, 1), padding=(1, 1))\n",
       "    (7): ReLU()\n",
       "    (8): MaxPool2d(kernel_size=2, stride=2, padding=0, dilation=1, ceil_mode=False)\n",
       "  )\n",
       "  (decoder): Sequential(\n",
       "    (0): ConvTranspose2d(128, 64, kernel_size=(4, 4), stride=(2, 2), padding=(1, 1))\n",
       "    (1): ReLU()\n",
       "    (2): ConvTranspose2d(64, 32, kernel_size=(4, 4), stride=(2, 2), padding=(1, 1))\n",
       "    (3): ReLU()\n",
       "    (4): ConvTranspose2d(32, 1, kernel_size=(4, 4), stride=(2, 2), padding=(1, 1))\n",
       "    (5): Sigmoid()\n",
       "  )\n",
       ")"
      ]
     },
     "execution_count": 6,
     "metadata": {},
     "output_type": "execute_result"
    }
   ],
   "source": [
    "ae"
   ]
  },
  {
   "cell_type": "code",
   "execution_count": 7,
   "id": "fea69de1",
   "metadata": {},
   "outputs": [
    {
     "name": "stdout",
     "output_type": "stream",
     "text": [
      "----------------------------------------------------------------\n",
      "        Layer (type)               Output Shape         Param #\n",
      "================================================================\n",
      "            Conv2d-1           [-1, 32, 40, 80]             320\n",
      "              ReLU-2           [-1, 32, 40, 80]               0\n",
      "         MaxPool2d-3           [-1, 32, 20, 40]               0\n",
      "            Conv2d-4           [-1, 64, 20, 40]          18,496\n",
      "              ReLU-5           [-1, 64, 20, 40]               0\n",
      "         MaxPool2d-6           [-1, 64, 10, 20]               0\n",
      "            Conv2d-7          [-1, 128, 10, 20]          73,856\n",
      "              ReLU-8          [-1, 128, 10, 20]               0\n",
      "         MaxPool2d-9           [-1, 128, 5, 10]               0\n",
      "  ConvTranspose2d-10           [-1, 64, 10, 20]         131,136\n",
      "             ReLU-11           [-1, 64, 10, 20]               0\n",
      "  ConvTranspose2d-12           [-1, 32, 20, 40]          32,800\n",
      "             ReLU-13           [-1, 32, 20, 40]               0\n",
      "  ConvTranspose2d-14            [-1, 1, 40, 80]             513\n",
      "          Sigmoid-15            [-1, 1, 40, 80]               0\n",
      "================================================================\n",
      "Total params: 257,121\n",
      "Trainable params: 257,121\n",
      "Non-trainable params: 0\n",
      "----------------------------------------------------------------\n",
      "Input size (MB): 0.01\n",
      "Forward/backward pass size (MB): 3.71\n",
      "Params size (MB): 0.98\n",
      "Estimated Total Size (MB): 4.70\n",
      "----------------------------------------------------------------\n"
     ]
    }
   ],
   "source": [
    "summary(ae, (1, 40, 80))"
   ]
  },
  {
   "cell_type": "code",
   "execution_count": 8,
   "id": "3dfc64f8",
   "metadata": {},
   "outputs": [],
   "source": [
    "def train(model, loss, optimizer, num_epochs, early_stopping=False):\n",
    "    train_loss_arr = []\n",
    "    test_loss_arr = []\n",
    "    \n",
    "    best_test_loss = 9999999999\n",
    "    early_stop, early_stop_max = 0, 3\n",
    "    \n",
    "    for epoch in range(num_epochs):\n",
    "        \n",
    "        epoch_loss = 0.\n",
    "        for batch_idx, data in enumerate(train_loader):\n",
    "            data = data.cuda()\n",
    "            optimizer.zero_grad()\n",
    "            \n",
    "            model.train()\n",
    "            outputs = model(data)\n",
    "            train_loss = loss(outputs, data)\n",
    "            epoch_loss += train_loss.data\n",
    "            \n",
    "            train_loss.backward()\n",
    "            optimizer.step()\n",
    "            \n",
    "            if batch_idx % 10 == 0:\n",
    "                print(f'Epoch : {epoch} [{batch_idx * len(data)}/{len(train_idx)} ({100. * batch_idx / len(train_idx) :.2f}%)]\\\n",
    "                \\tLoss : {train_loss.data / len(data) :.8f}')\n",
    "        \n",
    "        train_loss_arr.append((epoch_loss / len(train_idx)).cpu())\n",
    "        \n",
    "        # validation\n",
    "        model.eval()\n",
    "        \n",
    "        test_loss = 0.\n",
    "\n",
    "        for data in val_loader:\n",
    "            data = data.cuda()\n",
    "\n",
    "            outputs = model(data)\n",
    "            batch_loss = loss(outputs, data)\n",
    "            test_loss += batch_loss.data\n",
    "\n",
    "        test_loss_arr.append((test_loss / len(val_idx)).cpu())\n",
    "\n",
    "        if early_stopping:\n",
    "            if best_test_loss > test_loss:\n",
    "                best_test_loss = test_loss\n",
    "                early_stop = 0\n",
    "                print(f'Epoch [{epoch}/{num_epochs}], Average Train Loss : {train_loss_arr[epoch] :.8f}, ' +\\\n",
    "                f'Average Test Loss : {test_loss_arr[epoch] :.8f}\\n')\n",
    "            else:\n",
    "                early_stop += 1\n",
    "                print(f'Epoch [{epoch}/{num_epochs}], Average Train Loss : {train_loss_arr[epoch] :.8f}, '+\\\n",
    "                f'Average Test Loss : {test_loss_arr[epoch] :.8f}\\n')\n",
    "\n",
    "            if early_stop >= early_stop_max:\n",
    "                break\n",
    "        else:\n",
    "            print(f'Epoch [{epoch}/{num_epochs}], Average Train Loss : {train_loss_arr[epoch] :.8f}, ' +\\\n",
    "            f'Average Test Loss : {test_loss_arr[epoch] :.8f}\\n')\n",
    "\n",
    "    return train_loss_arr, test_loss_arr"
   ]
  },
  {
   "cell_type": "code",
   "execution_count": 9,
   "id": "ffe71113",
   "metadata": {
    "scrolled": true
   },
   "outputs": [
    {
     "name": "stdout",
     "output_type": "stream",
     "text": [
      "Epoch : 0 [0/2316 (0.00%)]                \tLoss : 0.00209646\n",
      "Epoch : 0 [1000/2316 (0.43%)]                \tLoss : 0.00007272\n",
      "Epoch : 0 [2000/2316 (0.86%)]                \tLoss : 0.00004314\n",
      "Epoch [0/1], Average Train Loss : 0.00050656, Average Test Loss : 0.00003284\n",
      "\n"
     ]
    }
   ],
   "source": [
    "ae_loss = nn.MSELoss()\n",
    "\n",
    "ae_optimizer = optim.Adam(ae.parameters())\n",
    "\n",
    "avg_train_loss, avg_test_loss = train(ae, ae_loss, ae_optimizer, 1, early_stopping=True)"
   ]
  },
  {
   "cell_type": "code",
   "execution_count": 10,
   "id": "7a566fa4",
   "metadata": {
    "scrolled": true
   },
   "outputs": [
    {
     "data": {
      "text/plain": [
       "<matplotlib.legend.Legend at 0x7ff20268d9d0>"
      ]
     },
     "execution_count": 10,
     "metadata": {},
     "output_type": "execute_result"
    },
    {
     "data": {
      "image/png": "[encoded data removed]",
      "text/plain": [
       "<Figure size 432x288 with 1 Axes>"
      ]
     },
     "metadata": {
      "needs_background": "light"
     },
     "output_type": "display_data"
    }
   ],
   "source": [
    "import matplotlib.pyplot as plt\n",
    "plt.plot(avg_train_loss, label='train')\n",
    "plt.plot(avg_test_loss, label='test')\n",
    "plt.legend()"
   ]
  },
  {
   "cell_type": "code",
   "execution_count": null,
   "id": "68752c09",
   "metadata": {},
   "outputs": [],
   "source": []
  },
  {
   "cell_type": "code",
   "execution_count": 11,
   "id": "8956ea05",
   "metadata": {},
   "outputs": [],
   "source": [
    "normal_dataset = AudioDataset(path='data/원천데이터/normal_1s')\n",
    "abnormal_dataset = AudioDataset(path='data/원천데이터/abnormal_1s')\n",
    "\n",
    "normal_loader = DataLoader(dataset=normal_dataset, batch_size=1, shuffle=False)\n",
    "abnormal_loader = DataLoader(dataset=abnormal_dataset, batch_size=1, shuffle=False)"
   ]
  },
  {
   "cell_type": "code",
   "execution_count": 12,
   "id": "10565ff6",
   "metadata": {},
   "outputs": [
    {
     "name": "stdout",
     "output_type": "stream",
     "text": [
      "--2.96%--5.93%--8.89%--11.85%--14.81%--17.78%--20.74%--23.70%--26.67%--29.63%--32.59%--35.56%--38.52%--41.48%--44.44%--47.41%--50.37%--53.33%--56.30%--59.26%--62.22%--65.19%--68.15%--71.11%--74.07%--77.04%--80.00%--82.96%--85.93%--88.89%--91.85%--94.81%--97.78%--100% \n",
      " done\n"
     ]
    }
   ],
   "source": [
    "mse = nn.MSELoss()\n",
    "\n",
    "normal_loss = []\n",
    "ae.eval()\n",
    "for idx, normal_data in enumerate(normal_loader):\n",
    "    normal_data = normal_data.cuda()\n",
    "    output = ae(normal_data)\n",
    "    loss = mse(normal_data, output)\n",
    "    normal_loss.append(loss.item())\n",
    "    if (idx+1) % 100 == 0:\n",
    "        print(f'--{((idx+1) / normal_loader.__len__()) * 100 :0.2f}%', end='')\n",
    "print(\"--100% \\n done\")"
   ]
  },
  {
   "cell_type": "code",
   "execution_count": 13,
   "id": "7c2c6875",
   "metadata": {},
   "outputs": [
    {
     "name": "stdout",
     "output_type": "stream",
     "text": [
      "--3.46%--6.91%--10.37%--13.82%--17.28%--20.73%--24.19%--27.64%--31.10%--34.55%--38.01%--41.47%--44.92%--48.38%--51.83%--55.29%--58.74%--62.20%--65.65%--69.11%--72.56%--76.02%--79.47%--82.93%--86.39%--89.84%--93.30%--96.75%--100% \n",
      " done\n"
     ]
    }
   ],
   "source": [
    "abnormal_loss = []\n",
    "ae.eval()\n",
    "for idx, abnormal_data in enumerate(abnormal_loader):\n",
    "    abnormal_data = abnormal_data.cuda()\n",
    "    output = ae(abnormal_data)\n",
    "    loss = mse(abnormal_data, output)\n",
    "    abnormal_loss.append(loss.item())\n",
    "    if (idx+1) % 100 == 0:\n",
    "        print(f'--{((idx+1) / abnormal_loader.__len__()) * 100 :0.2f}%', end='')\n",
    "print(\"--100% \\n done\")"
   ]
  },
  {
   "cell_type": "code",
   "execution_count": 14,
   "id": "3786a12f",
   "metadata": {
    "scrolled": true
   },
   "outputs": [
    {
     "data": {
      "image/png": "[encoded data removed]",
      "text/plain": [
       "<Figure size 432x288 with 1 Axes>"
      ]
     },
     "metadata": {
      "needs_background": "light"
     },
     "output_type": "display_data"
    }
   ],
   "source": [
    "import matplotlib.pyplot as plt\n",
    "\n",
    "\n",
    "plt.hist(normal_loss, color='r', alpha=0.5, bins=1, label='normal')\n",
    "plt.hist(abnormal_loss, color='b', alpha=0.5, bins=100, label='abnormal')\n",
    "plt.legend()\n",
    "\n",
    "plt.show()"
   ]
  },
  {
   "cell_type": "code",
   "execution_count": 15,
   "id": "e7adba75",
   "metadata": {
    "scrolled": true
   },
   "outputs": [
    {
     "data": {
      "image/png": "[encoded data removed]",
      "text/plain": [
       "<Figure size 432x288 with 1 Axes>"
      ]
     },
     "metadata": {
      "needs_background": "light"
     },
     "output_type": "display_data"
    }
   ],
   "source": [
    "plt.hist(normal_loss, color='r', alpha=0.5, bins=10, label='normal')\n",
    "plt.show()"
   ]
  },
  {
   "cell_type": "code",
   "execution_count": 16,
   "id": "84f9237a",
   "metadata": {},
   "outputs": [
    {
     "data": {
      "text/plain": [
       "(3375, 2894)"
      ]
     },
     "execution_count": 16,
     "metadata": {},
     "output_type": "execute_result"
    }
   ],
   "source": [
    "len(normal_loss), len(abnormal_loss)"
   ]
  },
  {
   "cell_type": "code",
   "execution_count": 17,
   "id": "6c0d480e",
   "metadata": {},
   "outputs": [
    {
     "data": {
      "text/plain": [
       "(3375, 57)"
      ]
     },
     "execution_count": 17,
     "metadata": {},
     "output_type": "execute_result"
    }
   ],
   "source": [
    "normal_loss = np.array(normal_loss)\n",
    "len(normal_loss), sum(normal_loss > 0.0001)"
   ]
  },
  {
   "cell_type": "code",
   "execution_count": 18,
   "id": "e01ba606",
   "metadata": {},
   "outputs": [
    {
     "data": {
      "text/plain": [
       "(2894, 1326)"
      ]
     },
     "execution_count": 18,
     "metadata": {},
     "output_type": "execute_result"
    }
   ],
   "source": [
    "abnormal_loss = np.array(abnormal_loss)\n",
    "len(abnormal_loss), sum(abnormal_loss > 0.0001)"
   ]
  },
  {
   "cell_type": "code",
   "execution_count": null,
   "id": "94603e4c",
   "metadata": {},
   "outputs": [],
   "source": []
  },
  {
   "cell_type": "code",
   "execution_count": 19,
   "id": "0160edb4",
   "metadata": {},
   "outputs": [
    {
     "name": "stdout",
     "output_type": "stream",
     "text": [
      "Wav lenght : 1.0, Mes_S shape : (40, 80)\n"
     ]
    },
    {
     "data": {
      "image/png": "[encoded data removed]",
      "text/plain": [
       "<Figure size 720x288 with 2 Axes>"
      ]
     },
     "metadata": {
      "needs_background": "light"
     },
     "output_type": "display_data"
    }
   ],
   "source": [
    "import librosa\n",
    "import librosa.display\n",
    "\n",
    "frame_length = 0.025 # win_length, 자연어 처리 분야에서 25ms 크기를 기본으로 하고 있음 (16000Hz -> 400)\n",
    "frame_stride = 0.0126 # hop_length, 일반적으로 10ms의 크기를 기본으로 하고 있음 (16000Hz -> 160)\n",
    "\n",
    "def Mel_S(wav_file):\n",
    "    y, sr = librosa.load(wav_file, sr=16000)\n",
    "    \n",
    "    input_nfft = int(round(sr*frame_length))\n",
    "    input_stride = int(round(sr*frame_stride))\n",
    "    \n",
    "    S = librosa.feature.melspectrogram(y=y, n_mels=40, n_fft=input_nfft, hop_length=input_stride)\n",
    "    \n",
    "    S = (S - normal_dataset.min) / (normal_dataset.max - normal_dataset.min) # min max normalization\n",
    "    print(f\"Wav lenght : {len(y)/sr}, Mes_S shape : {np.shape(S)}\")\n",
    "    \n",
    "    plt.figure(figsize=(10, 4))\n",
    "    librosa.display.specshow(librosa.power_to_db(S, ref=np.max), y_axis='mel', sr=sr, hop_length=input_stride, x_axis='time')\n",
    "    plt.colorbar(format='%+2.0f db')\n",
    "    plt.title('Mel Spectogram')\n",
    "    plt.tight_layout()\n",
    "    plt.show()\n",
    "    \n",
    "    return S\n",
    "\n",
    "\n",
    "data_path = 'data/원천데이터/abnormal_1s/가스사고_511106_label_0.wav'\n",
    "mel_spec = Mel_S(data_path)"
   ]
  },
  {
   "cell_type": "code",
   "execution_count": 20,
   "id": "09587e18",
   "metadata": {},
   "outputs": [
    {
     "data": {
      "text/plain": [
       "torch.Size([1, 1, 40, 80])"
      ]
     },
     "execution_count": 20,
     "metadata": {},
     "output_type": "execute_result"
    }
   ],
   "source": [
    "input_x = torch.Tensor(mel_spec.reshape(1,1,40,80)).cuda()\n",
    "output = ae(input_x)\n",
    "output.shape"
   ]
  },
  {
   "cell_type": "code",
   "execution_count": 21,
   "id": "c329378e",
   "metadata": {},
   "outputs": [
    {
     "data": {
      "image/png": "[encoded data removed]",
      "text/plain": [
       "<Figure size 720x288 with 2 Axes>"
      ]
     },
     "metadata": {
      "needs_background": "light"
     },
     "output_type": "display_data"
    }
   ],
   "source": [
    "sr = 16000\n",
    "input_nfft = int(round(sr*frame_length))\n",
    "input_stride = int(round(sr*frame_stride))\n",
    "\n",
    "plt.figure(figsize=(10, 4))\n",
    "librosa.display.specshow(librosa.power_to_db(output.cpu().detach().numpy().squeeze(), ref=np.max), y_axis='mel', sr=sr, hop_length=input_stride, x_axis='time')\n",
    "plt.colorbar(format='%+2.0f db')\n",
    "plt.title('Mel Spectogram')\n",
    "plt.tight_layout()\n",
    "plt.show()"
   ]
  },
  {
   "cell_type": "code",
   "execution_count": 22,
   "id": "9d9041d0",
   "metadata": {},
   "outputs": [
    {
     "data": {
      "text/plain": [
       "False"
      ]
     },
     "execution_count": 22,
     "metadata": {},
     "output_type": "execute_result"
    }
   ],
   "source": [
    "mse = nn.MSELoss()\n",
    "\n",
    "loss = mse(torch.Tensor(mel_spec).cuda(), output.squeeze())\n",
    "loss.item() > 0.0001"
   ]
  },
  {
   "cell_type": "code",
   "execution_count": 23,
   "id": "7a59f2b1",
   "metadata": {},
   "outputs": [],
   "source": [
    "a = mel_spec\n",
    "b = output.cpu().detach().numpy().squeeze()"
   ]
  },
  {
   "cell_type": "code",
   "execution_count": 24,
   "id": "83d631b0",
   "metadata": {},
   "outputs": [
    {
     "data": {
      "text/plain": [
       "(4.662067726504419e-05, 4.662067658500746e-05)"
      ]
     },
     "execution_count": 24,
     "metadata": {},
     "output_type": "execute_result"
    }
   ],
   "source": [
    "sum(sum((a-b)**2)) / (40 * 80), loss.item()"
   ]
  },
  {
   "cell_type": "code",
   "execution_count": 25,
   "id": "338e6312",
   "metadata": {},
   "outputs": [
    {
     "data": {
      "text/plain": [
       "5.3360833e-05"
      ]
     },
     "execution_count": 25,
     "metadata": {},
     "output_type": "execute_result"
    }
   ],
   "source": [
    "mel_spec.max()"
   ]
  },
  {
   "cell_type": "code",
   "execution_count": null,
   "id": "fd47a907",
   "metadata": {},
   "outputs": [],
   "source": []
  },
  {
   "cell_type": "code",
   "execution_count": null,
   "id": "5b1e3c56",
   "metadata": {},
   "outputs": [],
   "source": []
  },
  {
   "cell_type": "code",
   "execution_count": 31,
   "id": "9434d886",
   "metadata": {},
   "outputs": [
    {
     "name": "stdout",
     "output_type": "stream",
     "text": [
      "Wav lenght : 1.0, Mes_S shape : (40, 80)\n"
     ]
    },
    {
     "data": {
      "image/png": "[encoded data removed]",
      "text/plain": [
       "<Figure size 720x288 with 2 Axes>"
      ]
     },
     "metadata": {
      "needs_background": "light"
     },
     "output_type": "display_data"
    }
   ],
   "source": [
    "import librosa\n",
    "import librosa.display\n",
    "\n",
    "frame_length = 0.025 # win_length, 자연어 처리 분야에서 25ms 크기를 기본으로 하고 있음 (16000Hz -> 400)\n",
    "frame_stride = 0.0126 # hop_length, 일반적으로 10ms의 크기를 기본으로 하고 있음 (16000Hz -> 160)\n",
    "\n",
    "def Mel_S(wav_file):\n",
    "    y, sr = librosa.load(wav_file, sr=16000)\n",
    "    \n",
    "    input_nfft = int(round(sr*frame_length))\n",
    "    input_stride = int(round(sr*frame_stride))\n",
    "    \n",
    "    S = librosa.feature.melspectrogram(y=y, n_mels=40, n_fft=input_nfft, hop_length=input_stride)\n",
    "    \n",
    "    S = (S - normal_dataset.min) / (normal_dataset.max - normal_dataset.min) # min max normalization\n",
    "    print(f\"Wav lenght : {len(y)/sr}, Mes_S shape : {np.shape(S)}\")\n",
    "    \n",
    "    plt.figure(figsize=(10, 4))\n",
    "    librosa.display.specshow(librosa.power_to_db(S, ref=np.max), y_axis='mel', sr=sr, hop_length=input_stride, x_axis='time')\n",
    "    plt.colorbar(format='%+2.0f db')\n",
    "    plt.title('Mel Spectogram')\n",
    "    plt.tight_layout()\n",
    "    plt.show()\n",
    "    \n",
    "    return S\n",
    "\n",
    "\n",
    "data_path = 'data/원천데이터/normal_1s/실내_673584_label_0.wav'\n",
    "mel_spec = Mel_S(data_path)"
   ]
  },
  {
   "cell_type": "code",
   "execution_count": 32,
   "id": "57874f21",
   "metadata": {},
   "outputs": [
    {
     "data": {
      "image/png": "[encoded data removed]",
      "text/plain": [
       "<Figure size 720x288 with 2 Axes>"
      ]
     },
     "metadata": {
      "needs_background": "light"
     },
     "output_type": "display_data"
    }
   ],
   "source": [
    "input_x = torch.Tensor(mel_spec.reshape(1,1,40,80)).cuda()\n",
    "output = ae(input_x)\n",
    "\n",
    "sr = 16000\n",
    "input_nfft = int(round(sr*frame_length))\n",
    "input_stride = int(round(sr*frame_stride))\n",
    "\n",
    "plt.figure(figsize=(10, 4))\n",
    "librosa.display.specshow(librosa.power_to_db(output.cpu().detach().numpy().squeeze(), ref=np.max), y_axis='mel', sr=sr, hop_length=input_stride, x_axis='time')\n",
    "plt.colorbar(format='%+2.0f db')\n",
    "plt.title('Mel Spectogram')\n",
    "plt.tight_layout()\n",
    "plt.show()"
   ]
  },
  {
   "cell_type": "code",
   "execution_count": null,
   "id": "a876a7e1",
   "metadata": {},
   "outputs": [],
   "source": []
  },
  {
   "cell_type": "code",
   "execution_count": null,
   "id": "59c94125",
   "metadata": {},
   "outputs": [],
   "source": []
  },
  {
   "cell_type": "code",
   "execution_count": null,
   "id": "6c34e062",
   "metadata": {},
   "outputs": [],
   "source": []
  },
  {
   "cell_type": "code",
   "execution_count": null,
   "id": "ddbd267f",
   "metadata": {},
   "outputs": [],
   "source": []
  },
  {
   "cell_type": "code",
   "execution_count": null,
   "id": "e905a840",
   "metadata": {},
   "outputs": [],
   "source": []
  },
  {
   "cell_type": "code",
   "execution_count": null,
   "id": "1de86656",
   "metadata": {},
   "outputs": [],
   "source": []
  },
  {
   "cell_type": "code",
   "execution_count": null,
   "id": "ca11d9d8",
   "metadata": {},
   "outputs": [],
   "source": []
  },
  {
   "cell_type": "code",
   "execution_count": null,
   "id": "dbc4fedf",
   "metadata": {},
   "outputs": [],
   "source": []
  },
  {
   "cell_type": "code",
   "execution_count": null,
   "id": "d882e382",
   "metadata": {},
   "outputs": [],
   "source": []
  },
  {
   "cell_type": "code",
   "execution_count": 33,
   "id": "6c05e282",
   "metadata": {},
   "outputs": [
    {
     "name": "stdout",
     "output_type": "stream",
     "text": [
      "Wav lenght : 1.0, Mes_S shape : (40, 80)\n"
     ]
    },
    {
     "data": {
      "image/png": "[encoded data removed]",
      "text/plain": [
       "<Figure size 720x288 with 2 Axes>"
      ]
     },
     "metadata": {
      "needs_background": "light"
     },
     "output_type": "display_data"
    }
   ],
   "source": [
    "import librosa\n",
    "import librosa.display\n",
    "\n",
    "frame_length = 0.025 # win_length, 자연어 처리 분야에서 25ms 크기를 기본으로 하고 있음 (16000Hz -> 400)\n",
    "frame_stride = 0.0126 # hop_length, 일반적으로 10ms의 크기를 기본으로 하고 있음 (16000Hz -> 160)\n",
    "\n",
    "def Mel_S(wav_file):\n",
    "    y, sr = librosa.load(wav_file, sr=16000)\n",
    "    \n",
    "    input_nfft = int(round(sr*frame_length))\n",
    "    input_stride = int(round(sr*frame_stride))\n",
    "    \n",
    "    S = librosa.feature.melspectrogram(y=y, n_mels=40, n_fft=input_nfft, hop_length=input_stride)\n",
    "    \n",
    "    S = (S - normal_dataset.min) / (normal_dataset.max - normal_dataset.min) # min max normalization\n",
    "    print(f\"Wav lenght : {len(y)/sr}, Mes_S shape : {np.shape(S)}\")\n",
    "    \n",
    "    plt.figure(figsize=(10, 4))\n",
    "    librosa.display.specshow(librosa.power_to_db(S, ref=np.max), y_axis='mel', sr=sr, hop_length=input_stride, x_axis='time')\n",
    "    plt.colorbar(format='%+2.0f db')\n",
    "    plt.title('Mel Spectogram')\n",
    "    plt.tight_layout()\n",
    "    plt.show()\n",
    "    \n",
    "    return S\n",
    "\n",
    "\n",
    "data_path = 'data/원천데이터/normal_1s/실내_673584_label_3.wav'\n",
    "mel_spec = Mel_S(data_path)"
   ]
  },
  {
   "cell_type": "code",
   "execution_count": 34,
   "id": "a2748d04",
   "metadata": {},
   "outputs": [],
   "source": [
    "import soundfile as sf\n",
    "\n",
    "frame_length = 0.025 # win_length, 자연어 처리 분야에서 25ms 크기를 기본으로 하고 있음 (16000Hz -> 400)\n",
    "frame_stride = 0.0126 # hop_length, 일반적으로 10ms의 크기를 기본으로 하고 있음 (16000Hz -> 160)\n",
    "\n",
    "def mel_to_audio(mel, sr=16000):\n",
    "    input_nfft = int(round(sr*frame_length))\n",
    "    input_stride = int(round(sr*frame_stride))\n",
    "    return librosa.feature.inverse.mel_to_audio(mel, sr=sr, n_fft=input_nfft, hop_length=input_stride)\n",
    "    \n",
    "audio = mel_to_audio(mel_spec)\n",
    "sf.write(\"mel_to_wav_test.wav\", audio, 16000)"
   ]
  },
  {
   "cell_type": "code",
   "execution_count": 35,
   "id": "6f02f540",
   "metadata": {},
   "outputs": [],
   "source": [
    "test_x = mel_spec.reshape(1,1,40,80)\n",
    "test_x = torch.Tensor(test_x).cuda()"
   ]
  },
  {
   "cell_type": "code",
   "execution_count": 36,
   "id": "29666e01",
   "metadata": {
    "scrolled": false
   },
   "outputs": [
    {
     "data": {
      "text/plain": [
       "torch.Size([40, 80])"
      ]
     },
     "execution_count": 36,
     "metadata": {},
     "output_type": "execute_result"
    }
   ],
   "source": [
    "output = ae(test_x).reshape(40,80)\n",
    "output.shape"
   ]
  },
  {
   "cell_type": "code",
   "execution_count": 37,
   "id": "c36ba2a2",
   "metadata": {},
   "outputs": [
    {
     "data": {
      "image/png": "[encoded data removed]",
      "text/plain": [
       "<Figure size 720x288 with 2 Axes>"
      ]
     },
     "metadata": {
      "needs_background": "light"
     },
     "output_type": "display_data"
    }
   ],
   "source": [
    "sr = 16000\n",
    "input_nfft = int(round(sr*frame_length))\n",
    "input_stride = int(round(sr*frame_stride))\n",
    "\n",
    "plt.figure(figsize=(10, 4))\n",
    "librosa.display.specshow(librosa.power_to_db(output.cpu().detach().numpy(), ref=np.max), y_axis='mel', sr=sr, hop_length=input_stride, x_axis='time')\n",
    "plt.colorbar(format='%+2.0f db')\n",
    "plt.title('Mel Spectogram')\n",
    "plt.tight_layout()\n",
    "plt.show()"
   ]
  },
  {
   "cell_type": "code",
   "execution_count": 38,
   "id": "dc589e54",
   "metadata": {},
   "outputs": [],
   "source": [
    "audio2 = mel_to_audio(output.cpu().detach().numpy())\n",
    "sf.write(\"ae_output.wav\", audio2, 16000)"
   ]
  },
  {
   "cell_type": "code",
   "execution_count": null,
   "id": "ccc1eeff",
   "metadata": {},
   "outputs": [],
   "source": []
  },
  {
   "cell_type": "code",
   "execution_count": null,
   "id": "8bfdaa2e",
   "metadata": {},
   "outputs": [],
   "source": []
  },
  {
   "cell_type": "code",
   "execution_count": null,
   "id": "dbf36fd3",
   "metadata": {},
   "outputs": [],
   "source": []
  },
  {
   "cell_type": "code",
   "execution_count": 39,
   "id": "d445bd4a",
   "metadata": {},
   "outputs": [
    {
     "name": "stdout",
     "output_type": "stream",
     "text": [
      "Wav lenght : 1.0, Mes_S shape : (40, 80)\n"
     ]
    },
    {
     "data": {
      "image/png": "[encoded data removed]",
      "text/plain": [
       "<Figure size 720x288 with 2 Axes>"
      ]
     },
     "metadata": {
      "needs_background": "light"
     },
     "output_type": "display_data"
    }
   ],
   "source": [
    "import librosa\n",
    "import librosa.display\n",
    "\n",
    "frame_length = 0.025 # win_length, 자연어 처리 분야에서 25ms 크기를 기본으로 하고 있음 (16000Hz -> 400)\n",
    "frame_stride = 0.0126 # hop_length, 일반적으로 10ms의 크기를 기본으로 하고 있음 (16000Hz -> 160)\n",
    "\n",
    "def Mel_S(wav_file):\n",
    "    y, sr = librosa.load(wav_file, sr=16000)\n",
    "    \n",
    "    input_nfft = int(round(sr*frame_length))\n",
    "    input_stride = int(round(sr*frame_stride))\n",
    "    \n",
    "    S = librosa.feature.melspectrogram(y=y, n_mels=40, n_fft=input_nfft, hop_length=input_stride)\n",
    "    \n",
    "    S = (S - normal_dataset.min) / (normal_dataset.max - normal_dataset.min) # min max normalization\n",
    "    print(f\"Wav lenght : {len(y)/sr}, Mes_S shape : {np.shape(S)}\")\n",
    "    \n",
    "    plt.figure(figsize=(10, 4))\n",
    "    librosa.display.specshow(librosa.power_to_db(S, ref=np.max), y_axis='mel', sr=sr, hop_length=input_stride, x_axis='time')\n",
    "    plt.colorbar(format='%+2.0f db')\n",
    "    plt.title('Mel Spectogram')\n",
    "    plt.tight_layout()\n",
    "    plt.show()\n",
    "    \n",
    "    return S\n",
    "\n",
    "\n",
    "data_path = 'data/원천데이터/abnormal_1s/가스사고_550795_label_0.wav'\n",
    "mel_spec = Mel_S(data_path)"
   ]
  },
  {
   "cell_type": "code",
   "execution_count": 40,
   "id": "3ed1d124",
   "metadata": {},
   "outputs": [],
   "source": [
    "import soundfile as sf\n",
    "\n",
    "frame_length = 0.025 # win_length, 자연어 처리 분야에서 25ms 크기를 기본으로 하고 있음 (16000Hz -> 400)\n",
    "frame_stride = 0.0126 # hop_length, 일반적으로 10ms의 크기를 기본으로 하고 있음 (16000Hz -> 160)\n",
    "\n",
    "def mel_to_audio(mel, sr=16000):\n",
    "    input_nfft = int(round(sr*frame_length))\n",
    "    input_stride = int(round(sr*frame_stride))\n",
    "    return librosa.feature.inverse.mel_to_audio(mel, sr=sr, n_fft=input_nfft, hop_length=input_stride)\n",
    "    \n",
    "audio = mel_to_audio(mel_spec)\n",
    "sf.write(\"mel_to_wav_test2.wav\", audio, 16000)"
   ]
  },
  {
   "cell_type": "code",
   "execution_count": 41,
   "id": "42ad1ce8",
   "metadata": {},
   "outputs": [],
   "source": [
    "test_x = mel_spec.reshape(1,1,40,80)\n",
    "test_x = torch.Tensor(test_x).cuda()"
   ]
  },
  {
   "cell_type": "code",
   "execution_count": 42,
   "id": "c848e451",
   "metadata": {
    "scrolled": false
   },
   "outputs": [
    {
     "data": {
      "text/plain": [
       "torch.Size([40, 80])"
      ]
     },
     "execution_count": 42,
     "metadata": {},
     "output_type": "execute_result"
    }
   ],
   "source": [
    "output = ae(test_x).reshape(40,80)\n",
    "output.shape"
   ]
  },
  {
   "cell_type": "code",
   "execution_count": 43,
   "id": "c955d8bb",
   "metadata": {},
   "outputs": [
    {
     "data": {
      "image/png": "[encoded data removed]",
      "text/plain": [
       "<Figure size 720x288 with 2 Axes>"
      ]
     },
     "metadata": {
      "needs_background": "light"
     },
     "output_type": "display_data"
    }
   ],
   "source": [
    "sr = 16000\n",
    "input_nfft = int(round(sr*frame_length))\n",
    "input_stride = int(round(sr*frame_stride))\n",
    "\n",
    "plt.figure(figsize=(10, 4))\n",
    "librosa.display.specshow(librosa.power_to_db(output.cpu().detach().numpy(), ref=np.max), y_axis='mel', sr=sr, hop_length=input_stride, x_axis='time')\n",
    "plt.colorbar(format='%+2.0f db')\n",
    "plt.title('Mel Spectogram')\n",
    "plt.tight_layout()\n",
    "plt.show()"
   ]
  },
  {
   "cell_type": "code",
   "execution_count": 44,
   "id": "e7b9eaab",
   "metadata": {},
   "outputs": [],
   "source": [
    "audio2 = mel_to_audio(output.cpu().detach().numpy())\n",
    "sf.write(\"ae_output2.wav\", audio2, 16000)"
   ]
  },
  {
   "cell_type": "code",
   "execution_count": null,
   "id": "ac39e6b2",
   "metadata": {},
   "outputs": [],
   "source": []
  },
  {
   "cell_type": "code",
   "execution_count": 85,
   "id": "4ed4e925",
   "metadata": {},
   "outputs": [
    {
     "data": {
      "text/plain": [
       "(numpy.ndarray, torch.Size([40, 80]))"
      ]
     },
     "execution_count": 85,
     "metadata": {},
     "output_type": "execute_result"
    }
   ],
   "source": [
    "type(mel_spec), output.shape"
   ]
  },
  {
   "cell_type": "code",
   "execution_count": 88,
   "id": "961998ae",
   "metadata": {},
   "outputs": [
    {
     "data": {
      "text/plain": [
       "tensor(0.0005, device='cuda:0', grad_fn=<MseLossBackward0>)"
      ]
     },
     "execution_count": 88,
     "metadata": {},
     "output_type": "execute_result"
    }
   ],
   "source": [
    "mse = nn.MSELoss()\n",
    "mse(torch.Tensor(mel_spec).cuda(), output)"
   ]
  },
  {
   "cell_type": "code",
   "execution_count": 97,
   "id": "e6b41200",
   "metadata": {},
   "outputs": [
    {
     "data": {
      "text/plain": [
       "tensor(0.0013, device='cuda:0', grad_fn=<MseLossBackward0>)"
      ]
     },
     "execution_count": 97,
     "metadata": {},
     "output_type": "execute_result"
    }
   ],
   "source": [
    "mse = nn.MSELoss()\n",
    "mse(torch.Tensor(mel_spec).cuda(), output)"
   ]
  },
  {
   "cell_type": "code",
   "execution_count": null,
   "id": "016924a4",
   "metadata": {},
   "outputs": [],
   "source": []
  },
  {
   "cell_type": "code",
   "execution_count": null,
   "id": "c5384e1e",
   "metadata": {},
   "outputs": [],
   "source": []
  },
  {
   "cell_type": "code",
   "execution_count": null,
   "id": "1fd5b834",
   "metadata": {},
   "outputs": [],
   "source": []
  },
  {
   "cell_type": "code",
   "execution_count": null,
   "id": "6240f49d",
   "metadata": {},
   "outputs": [],
   "source": []
  },
  {
   "cell_type": "code",
   "execution_count": null,
   "id": "2e562b13",
   "metadata": {},
   "outputs": [],
   "source": [
    "import librosa\n",
    "import librosa.display\n",
    "import soundfile as sf\n",
    "\n",
    "data_path = \"\"\n",
    "raw_file_name = \"\"\n",
    "ae_file_name = \"\"\n",
    "\n",
    "\n",
    "frame_length = 0.025 # win_length, 자연어 처리 분야에서 25ms 크기를 기본으로 하고 있음 (16000Hz -> 400)\n",
    "frame_stride = 0.0126 # hop_length, 일반적으로 10ms의 크기를 기본으로 하고 있음 (16000Hz -> 160)\n",
    "sr = 16000\n",
    "input_nfft = int(round(sr*frame_length))\n",
    "input_stride = int(round(sr*frame_stride))\n",
    "\n",
    "def Mel_S(wav_file):\n",
    "    y, sr = librosa.load(wav_file, sr=16000)   \n",
    "    S = librosa.feature.melspectrogram(y=y, n_mels=40, n_fft=input_nfft, hop_length=input_stride)\n",
    "    \n",
    "    S = (S - S.mean()) / S.std() # standardization\n",
    "    S = (S - S.min()) / (S.max() - S.min()) # min max normalization\n",
    "    print(f\"Wav lenght : {len(y)/sr}, Mes_S shape : {np.shape(S)}\")\n",
    "    \n",
    "    plt.figure(figsize=(10, 4))\n",
    "    librosa.display.specshow(librosa.power_to_db(S, ref=np.max), y_axis='mel', sr=sr, hop_length=input_stride, x_axis='time')\n",
    "    plt.colorbar(format='%+2.0f db')\n",
    "    plt.title('Mel Spectogram')\n",
    "    plt.tight_layout()\n",
    "    plt.show()\n",
    "    \n",
    "    return S\n",
    "\n",
    "data_path = 'data/원천데이터/abnormal_1s/가스사고_550795_label_0.wav'\n",
    "mel_spec = Mel_S(data_path)\n",
    "\n",
    "\n",
    "def mel_to_audio(mel, sr=16000):\n",
    "    return librosa.feature.inverse.mel_to_audio(mel, sr=sr, n_fft=input_nfft, hop_length=input_stride)\n",
    "    \n",
    "audio = mel_to_audio(mel_spec)\n",
    "sf.write(f\"{raw}.wav\", audio, 16000)\n",
    "\n",
    "test_x = mel_spec.reshape(1,1,40,80)\n",
    "test_x = torch.Tensor(test_x).cuda()\n",
    "output = ae(test_x).reshape(40,80)\n",
    "output.shape\n",
    "\n",
    "plt.figure(figsize=(10, 4))\n",
    "librosa.display.specshow(librosa.power_to_db(output.cpu().detach().numpy(), ref=np.max), y_axis='mel', sr=sr, hop_length=input_stride, x_axis='time')\n",
    "plt.colorbar(format='%+2.0f db')\n",
    "plt.title('Mel Spectogram')\n",
    "plt.tight_layout()\n",
    "plt.show()\n",
    "\n",
    "audio2 = mel_to_audio(output.cpu().detach().numpy())\n",
    "sf.write(f\"{ae}.wav\", audio2, 16000)"
   ]
  }
 ],
 "metadata": {
  "kernelspec": {
   "display_name": "pytorch",
   "language": "python",
   "name": "pytorch"
  },
  "language_info": {
   "codemirror_mode": {
    "name": "ipython",
    "version": 3
   },
   "file_extension": ".py",
   "mimetype": "text/x-python",
   "name": "python",
   "nbconvert_exporter": "python",
   "pygments_lexer": "ipython3",
   "version": "3.8.12"
  }
 },
 "nbformat": 4,
 "nbformat_minor": 5
}
